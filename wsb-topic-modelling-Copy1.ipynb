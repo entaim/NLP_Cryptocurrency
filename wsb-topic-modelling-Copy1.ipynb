{
 "cells": [
  {
   "cell_type": "code",
   "execution_count": 19,
   "metadata": {},
   "outputs": [
    {
     "name": "stdout",
     "output_type": "stream",
     "text": [
      "\u001b[31mERROR: Could not find a version that satisfies the requirement 2.2.4\u001b[0m\n",
      "\u001b[31mERROR: No matching distribution found for 2.2.4\u001b[0m\n"
     ]
    }
   ],
   "source": [
    "!pip3 install spacy >= 2.2.4"
   ]
  },
  {
   "cell_type": "code",
   "execution_count": 20,
   "metadata": {
    "_cell_guid": "b1076dfc-b9ad-4769-8c92-a6c4dae69d19",
    "_uuid": "8f2839f25d086af736a60e9eeb907d3b93b6e0e5",
    "execution": {
     "iopub.execute_input": "2021-06-03T19:48:45.376899Z",
     "iopub.status.busy": "2021-06-03T19:48:45.376476Z",
     "iopub.status.idle": "2021-06-03T19:48:46.885271Z",
     "shell.execute_reply": "2021-06-03T19:48:46.884293Z",
     "shell.execute_reply.started": "2021-06-03T19:48:45.376809Z"
    }
   },
   "outputs": [],
   "source": [
    "import string\n",
    "\n",
    "import numpy as np\n",
    "import pandas as pd\n",
    "import matplotlib.pyplot as plt\n",
    "import seaborn as sns\n",
    "import spacy \n",
    "import praw\n",
    "import streamlit as st\n",
    "\n",
    "\n",
    "%matplotlib inline"
   ]
  },
  {
   "cell_type": "code",
   "execution_count": 21,
   "metadata": {
    "execution": {
     "iopub.execute_input": "2021-06-03T19:48:46.889201Z",
     "iopub.status.busy": "2021-06-03T19:48:46.888898Z",
     "iopub.status.idle": "2021-06-03T19:48:47.993451Z",
     "shell.execute_reply": "2021-06-03T19:48:47.992519Z",
     "shell.execute_reply.started": "2021-06-03T19:48:46.889159Z"
    }
   },
   "outputs": [],
   "source": [
    "\n",
    "reddit = praw.Reddit(client_id='qQBQxY9R1zGrYJH9pACBOw', client_secret='MjrjCout_Omkh_3feZFq3UrzyLBicw', user_agent='Crypto')\n"
   ]
  },
  {
   "cell_type": "code",
   "execution_count": 22,
   "metadata": {},
   "outputs": [],
   "source": [
    "crypto = []\n",
    "ml_subreddit = reddit.subreddit('Cryptocurrency')\n",
    "for post in ml_subreddit.hot(limit=30000):\n",
    "    crypto.append([post.title, post.score, post.id, post.subreddit, post.url, post.num_comments, post.selftext, post.created])\n",
    "crypto = pd.DataFrame(crypto,columns=['title', 'score', 'id', 'subreddit', 'url', 'num_comments', 'body', 'created'])"
   ]
  },
  {
   "cell_type": "code",
   "execution_count": 23,
   "metadata": {
    "execution": {
     "iopub.execute_input": "2021-06-03T19:48:47.995967Z",
     "iopub.status.busy": "2021-06-03T19:48:47.995413Z",
     "iopub.status.idle": "2021-06-03T19:48:48.037504Z",
     "shell.execute_reply": "2021-06-03T19:48:48.036596Z",
     "shell.execute_reply.started": "2021-06-03T19:48:47.995923Z"
    }
   },
   "outputs": [],
   "source": [
    "crypto.dropna(subset=['body'], inplace=True)"
   ]
  },
  {
   "cell_type": "code",
   "execution_count": 24,
   "metadata": {
    "execution": {
     "iopub.execute_input": "2021-06-03T19:48:48.040034Z",
     "iopub.status.busy": "2021-06-03T19:48:48.039460Z",
     "iopub.status.idle": "2021-06-03T19:48:48.046666Z",
     "shell.execute_reply": "2021-06-03T19:48:48.045479Z",
     "shell.execute_reply.started": "2021-06-03T19:48:48.039986Z"
    }
   },
   "outputs": [],
   "source": [
    "crypto['original_body'] = crypto['body']"
   ]
  },
  {
   "cell_type": "code",
   "execution_count": 34,
   "metadata": {},
   "outputs": [
    {
     "data": {
      "text/html": [
       "<div>\n",
       "<style scoped>\n",
       "    .dataframe tbody tr th:only-of-type {\n",
       "        vertical-align: middle;\n",
       "    }\n",
       "\n",
       "    .dataframe tbody tr th {\n",
       "        vertical-align: top;\n",
       "    }\n",
       "\n",
       "    .dataframe thead th {\n",
       "        text-align: right;\n",
       "    }\n",
       "</style>\n",
       "<table border=\"1\" class=\"dataframe\">\n",
       "  <thead>\n",
       "    <tr style=\"text-align: right;\">\n",
       "      <th></th>\n",
       "      <th>title</th>\n",
       "      <th>score</th>\n",
       "      <th>id</th>\n",
       "      <th>subreddit</th>\n",
       "      <th>url</th>\n",
       "      <th>num_comments</th>\n",
       "      <th>body</th>\n",
       "      <th>created</th>\n",
       "      <th>original_body</th>\n",
       "    </tr>\n",
       "  </thead>\n",
       "  <tbody>\n",
       "    <tr>\n",
       "      <th>0</th>\n",
       "      <td>Daily Discussion - November 19, 2021 (GMT+0)</td>\n",
       "      <td>202</td>\n",
       "      <td>qx37qc</td>\n",
       "      <td>CryptoCurrency</td>\n",
       "      <td>https://www.reddit.com/r/CryptoCurrency/commen...</td>\n",
       "      <td>10274</td>\n",
       "      <td>welcome daily discussion read disclaimer guide...</td>\n",
       "      <td>1.637280e+09</td>\n",
       "      <td>**Welcome to the Daily Discussion. Please read...</td>\n",
       "    </tr>\n",
       "    <tr>\n",
       "      <th>1</th>\n",
       "      <td>I absolutely do not sympathize with people who...</td>\n",
       "      <td>1037</td>\n",
       "      <td>qxepgd</td>\n",
       "      <td>CryptoCurrency</td>\n",
       "      <td>https://www.reddit.com/r/CryptoCurrency/commen...</td>\n",
       "      <td>466</td>\n",
       "      <td>friend lost 2 k squid game token fiasco later ...</td>\n",
       "      <td>1.637323e+09</td>\n",
       "      <td>My friend lost $2K in the whole squid game tok...</td>\n",
       "    </tr>\n",
       "    <tr>\n",
       "      <th>2</th>\n",
       "      <td>Should Loopring be in your portfolio?</td>\n",
       "      <td>455</td>\n",
       "      <td>qxflkv</td>\n",
       "      <td>CryptoCurrency</td>\n",
       "      <td>https://www.reddit.com/r/CryptoCurrency/commen...</td>\n",
       "      <td>386</td>\n",
       "      <td>holding loopring awhile sadly bought currently...</td>\n",
       "      <td>1.637326e+09</td>\n",
       "      <td>I have been holding Loopring for awhile now an...</td>\n",
       "    </tr>\n",
       "    <tr>\n",
       "      <th>3</th>\n",
       "      <td>Housing Prices Increased 18% in 6 Months: Cryp...</td>\n",
       "      <td>240</td>\n",
       "      <td>qxg4zr</td>\n",
       "      <td>CryptoCurrency</td>\n",
       "      <td>https://www.reddit.com/r/CryptoCurrency/commen...</td>\n",
       "      <td>155</td>\n",
       "      <td>area housing prices went 18 6 months picture n...</td>\n",
       "      <td>1.637328e+09</td>\n",
       "      <td>In my area housing prices went up 18% in just ...</td>\n",
       "    </tr>\n",
       "    <tr>\n",
       "      <th>4</th>\n",
       "      <td>Hillary Clinton will mark the start of this Bu...</td>\n",
       "      <td>223</td>\n",
       "      <td>qxgirf</td>\n",
       "      <td>CryptoCurrency</td>\n",
       "      <td>https://www.reddit.com/r/CryptoCurrency/commen...</td>\n",
       "      <td>257</td>\n",
       "      <td>hilary opinion huge favour disclousure main re...</td>\n",
       "      <td>1.637330e+09</td>\n",
       "      <td>So Hilary in my opinion, just made us a huge f...</td>\n",
       "    </tr>\n",
       "    <tr>\n",
       "      <th>...</th>\n",
       "      <td>...</td>\n",
       "      <td>...</td>\n",
       "      <td>...</td>\n",
       "      <td>...</td>\n",
       "      <td>...</td>\n",
       "      <td>...</td>\n",
       "      <td>...</td>\n",
       "      <td>...</td>\n",
       "      <td>...</td>\n",
       "    </tr>\n",
       "    <tr>\n",
       "      <th>679</th>\n",
       "      <td>700 million dollars says crypto will be around...</td>\n",
       "      <td>12</td>\n",
       "      <td>qwoqov</td>\n",
       "      <td>CryptoCurrency</td>\n",
       "      <td>https://www.reddit.com/r/CryptoCurrency/commen...</td>\n",
       "      <td>19</td>\n",
       "      <td>thinking crazy number sure naming rights agree...</td>\n",
       "      <td>1.637239e+09</td>\n",
       "      <td>I’ve been thinking about how crazy that number...</td>\n",
       "    </tr>\n",
       "    <tr>\n",
       "      <th>680</th>\n",
       "      <td>New Record For Bitcoin Lightning Network As Ad...</td>\n",
       "      <td>6</td>\n",
       "      <td>qwtswr</td>\n",
       "      <td>CryptoCurrency</td>\n",
       "      <td>https://www.newsbtc.com/news/bitcoin/bitcoin-l...</td>\n",
       "      <td>7</td>\n",
       "      <td></td>\n",
       "      <td>1.637254e+09</td>\n",
       "      <td></td>\n",
       "    </tr>\n",
       "    <tr>\n",
       "      <th>681</th>\n",
       "      <td>A DAO Has Raised $45.6M to Buy the U.S. Consti...</td>\n",
       "      <td>6</td>\n",
       "      <td>qwtqdw</td>\n",
       "      <td>CryptoCurrency</td>\n",
       "      <td>https://cryptobriefing.com/a-dao-has-raised-45...</td>\n",
       "      <td>6</td>\n",
       "      <td></td>\n",
       "      <td>1.637254e+09</td>\n",
       "      <td></td>\n",
       "    </tr>\n",
       "    <tr>\n",
       "      <th>682</th>\n",
       "      <td>Comment your coin . Lets share some positivity</td>\n",
       "      <td>7</td>\n",
       "      <td>qwv20m</td>\n",
       "      <td>CryptoCurrency</td>\n",
       "      <td>https://www.reddit.com/r/CryptoCurrency/commen...</td>\n",
       "      <td>38</td>\n",
       "      <td>guy think experienced dip scary feeling seeing...</td>\n",
       "      <td>1.637257e+09</td>\n",
       "      <td>So, guy i think i just experienced my first di...</td>\n",
       "    </tr>\n",
       "    <tr>\n",
       "      <th>683</th>\n",
       "      <td>Where did my xdai go?</td>\n",
       "      <td>1</td>\n",
       "      <td>qx5wjb</td>\n",
       "      <td>CryptoCurrency</td>\n",
       "      <td>https://www.reddit.com/r/CryptoCurrency/commen...</td>\n",
       "      <td>17</td>\n",
       "      <td>sent xdai meta mask trust wallet took funds sh...</td>\n",
       "      <td>1.637289e+09</td>\n",
       "      <td>So I sent Xdai from meta mask to trust wallet ...</td>\n",
       "    </tr>\n",
       "  </tbody>\n",
       "</table>\n",
       "<p>684 rows × 9 columns</p>\n",
       "</div>"
      ],
      "text/plain": [
       "                                                 title  score      id  \\\n",
       "0         Daily Discussion - November 19, 2021 (GMT+0)    202  qx37qc   \n",
       "1    I absolutely do not sympathize with people who...   1037  qxepgd   \n",
       "2                Should Loopring be in your portfolio?    455  qxflkv   \n",
       "3    Housing Prices Increased 18% in 6 Months: Cryp...    240  qxg4zr   \n",
       "4    Hillary Clinton will mark the start of this Bu...    223  qxgirf   \n",
       "..                                                 ...    ...     ...   \n",
       "679  700 million dollars says crypto will be around...     12  qwoqov   \n",
       "680  New Record For Bitcoin Lightning Network As Ad...      6  qwtswr   \n",
       "681  A DAO Has Raised $45.6M to Buy the U.S. Consti...      6  qwtqdw   \n",
       "682     Comment your coin . Lets share some positivity      7  qwv20m   \n",
       "683                              Where did my xdai go?      1  qx5wjb   \n",
       "\n",
       "          subreddit                                                url  \\\n",
       "0    CryptoCurrency  https://www.reddit.com/r/CryptoCurrency/commen...   \n",
       "1    CryptoCurrency  https://www.reddit.com/r/CryptoCurrency/commen...   \n",
       "2    CryptoCurrency  https://www.reddit.com/r/CryptoCurrency/commen...   \n",
       "3    CryptoCurrency  https://www.reddit.com/r/CryptoCurrency/commen...   \n",
       "4    CryptoCurrency  https://www.reddit.com/r/CryptoCurrency/commen...   \n",
       "..              ...                                                ...   \n",
       "679  CryptoCurrency  https://www.reddit.com/r/CryptoCurrency/commen...   \n",
       "680  CryptoCurrency  https://www.newsbtc.com/news/bitcoin/bitcoin-l...   \n",
       "681  CryptoCurrency  https://cryptobriefing.com/a-dao-has-raised-45...   \n",
       "682  CryptoCurrency  https://www.reddit.com/r/CryptoCurrency/commen...   \n",
       "683  CryptoCurrency  https://www.reddit.com/r/CryptoCurrency/commen...   \n",
       "\n",
       "     num_comments                                               body  \\\n",
       "0           10274  welcome daily discussion read disclaimer guide...   \n",
       "1             466  friend lost 2 k squid game token fiasco later ...   \n",
       "2             386  holding loopring awhile sadly bought currently...   \n",
       "3             155  area housing prices went 18 6 months picture n...   \n",
       "4             257  hilary opinion huge favour disclousure main re...   \n",
       "..            ...                                                ...   \n",
       "679            19  thinking crazy number sure naming rights agree...   \n",
       "680             7                                                      \n",
       "681             6                                                      \n",
       "682            38  guy think experienced dip scary feeling seeing...   \n",
       "683            17  sent xdai meta mask trust wallet took funds sh...   \n",
       "\n",
       "          created                                      original_body  \n",
       "0    1.637280e+09  **Welcome to the Daily Discussion. Please read...  \n",
       "1    1.637323e+09  My friend lost $2K in the whole squid game tok...  \n",
       "2    1.637326e+09  I have been holding Loopring for awhile now an...  \n",
       "3    1.637328e+09  In my area housing prices went up 18% in just ...  \n",
       "4    1.637330e+09  So Hilary in my opinion, just made us a huge f...  \n",
       "..            ...                                                ...  \n",
       "679  1.637239e+09  I’ve been thinking about how crazy that number...  \n",
       "680  1.637254e+09                                                     \n",
       "681  1.637254e+09                                                     \n",
       "682  1.637257e+09  So, guy i think i just experienced my first di...  \n",
       "683  1.637289e+09  So I sent Xdai from meta mask to trust wallet ...  \n",
       "\n",
       "[684 rows x 9 columns]"
      ]
     },
     "execution_count": 34,
     "metadata": {},
     "output_type": "execute_result"
    }
   ],
   "source": [
    "crypto"
   ]
  },
  {
   "cell_type": "code",
   "execution_count": 25,
   "metadata": {},
   "outputs": [],
   "source": [
    "import spacy\n",
    "nlp = spacy.blank('en')\n",
    "\n",
    "\n",
    "import re\n",
    "\n",
    "def remove_urls(text):\n",
    "    url_pattern = re.compile(r'https?://\\S+|www\\.\\S+')\n",
    "    return url_pattern.sub(r'', text)\n",
    "\n",
    "def remove_punctuation(text):\n",
    "    return text.translate(str.maketrans('', '', string.punctuation))\n",
    "\n",
    "def remove_stop_words(text):\n",
    "    doc = nlp(text)\n",
    "    nlp.Defaults.stop_words -= {\"nt\",\"crypto\", \"cryptocurrency\"}\n",
    "    return \" \".join([token.text for token in doc if not token.is_stop])\n",
    "\n",
    "def lemmatize_words(text):\n",
    "    doc = nlp(text)\n",
    "    return \" \".join([token.lemma_ for token in doc])\n",
    "\n",
    "remove_spaces = lambda x : re.sub('\\\\s+', ' ', x)\n",
    "\n",
    "# Reference : https://gist.github.com/slowkow/7a7f61f495e3dbb7e3d767f97bd7304b\n",
    "def remove_emoji(string):\n",
    "    emoji_pattern = re.compile(\"[\"\n",
    "                               u\"\\U0001F600-\\U0001F64F\"  # emoticons\n",
    "                               u\"\\U0001F300-\\U0001F5FF\"  # symbols & pictographs\n",
    "                               u\"\\U0001F680-\\U0001F6FF\"  # transport & map symbols\n",
    "                               u\"\\U0001F1E0-\\U0001F1FF\"  # flags (iOS)\n",
    "                               u\"\\U00002500-\\U00002BEF\"  # chinese char\n",
    "                               u\"\\U00002702-\\U000027B0\"\n",
    "                               u\"\\U00002702-\\U000027B0\"\n",
    "                               u\"\\U000024C2-\\U0001F251\"\n",
    "                               u\"\\U0001f926-\\U0001f937\"\n",
    "                               u\"\\U00010000-\\U0010ffff\"\n",
    "                               u\"\\u2640-\\u2642\"\n",
    "                               u\"\\u2600-\\u2B55\"\n",
    "                               u\"\\u200d\"\n",
    "                               u\"\\u23cf\"\n",
    "                               u\"\\u23e9\"\n",
    "                               u\"\\u231a\"\n",
    "                               u\"\\ufe0f\"  # dingbats\n",
    "                               u\"\\u3030\"\n",
    "                               \"]+\", flags=re.UNICODE)\n",
    "    return emoji_pattern.sub(r'', string)\n",
    "\n",
    "remove_double_quotes = lambda x : x.replace('\"', '')\n",
    "remove_single_quotes = lambda x : x.replace('\\'', '')\n",
    "trim = lambda x : x.strip()\n",
    "\n",
    "other_chars = ['*', '#', '&x200B', '[', ']', '; ',' ;' \"&nbsp\", \"“\",\"“\",\"”\", \"x200b\"]\n",
    "\n",
    "\n",
    "def remove_other_chars(x: str):\n",
    "    for char in other_chars:\n",
    "        x = x.replace(char, '')\n",
    "    \n",
    "    return x\n",
    "\n",
    "\n",
    "def lower_case_text(text):\n",
    "    return text.lower()\n",
    "\n",
    "funcs = [\n",
    "    remove_urls, \n",
    "    remove_punctuation,\n",
    "    remove_stop_words, \n",
    "    remove_emoji, \n",
    "    remove_double_quotes, \n",
    "    remove_single_quotes,\n",
    "    lower_case_text,\n",
    "    remove_other_chars,\n",
    "    # lemmatize_words,\n",
    "    remove_spaces,\n",
    "    trim]\n",
    "\n"
   ]
  },
  {
   "cell_type": "code",
   "execution_count": 26,
   "metadata": {},
   "outputs": [],
   "source": [
    "for fun in funcs:\n",
    "    crypto['body'] = crypto['body'].apply(fun)"
   ]
  },
  {
   "cell_type": "code",
   "execution_count": 27,
   "metadata": {
    "execution": {
     "iopub.execute_input": "2021-06-03T19:49:59.415967Z",
     "iopub.status.busy": "2021-06-03T19:49:59.415682Z",
     "iopub.status.idle": "2021-06-03T19:49:59.457088Z",
     "shell.execute_reply": "2021-06-03T19:49:59.456277Z",
     "shell.execute_reply.started": "2021-06-03T19:49:59.415940Z"
    }
   },
   "outputs": [],
   "source": [
    "crypto.reset_index(inplace=True)\n",
    "crypto.drop(['index'], axis=1, inplace=True)\n",
    "\n"
   ]
  },
  {
   "cell_type": "code",
   "execution_count": 28,
   "metadata": {
    "execution": {
     "iopub.execute_input": "2021-06-03T19:49:59.466127Z",
     "iopub.status.busy": "2021-06-03T19:49:59.465865Z",
     "iopub.status.idle": "2021-06-03T19:49:59.478390Z",
     "shell.execute_reply": "2021-06-03T19:49:59.477278Z",
     "shell.execute_reply.started": "2021-06-03T19:49:59.466101Z"
    }
   },
   "outputs": [],
   "source": [
    "body_list = crypto.body.tolist()"
   ]
  },
  {
   "cell_type": "code",
   "execution_count": 29,
   "metadata": {
    "execution": {
     "iopub.execute_input": "2021-06-03T19:50:49.982661Z",
     "iopub.status.busy": "2021-06-03T19:50:49.982075Z",
     "iopub.status.idle": "2021-06-03T19:50:49.989305Z",
     "shell.execute_reply": "2021-06-03T19:50:49.988267Z",
     "shell.execute_reply.started": "2021-06-03T19:50:49.982612Z"
    }
   },
   "outputs": [],
   "source": [
    "def generate_ngrams(text, n_gram=2):\n",
    "    token = [token for token in text.lower().split(' ') if token != '']\n",
    "    ngrams = zip(*[token[i:] for i in range(n_gram)])\n",
    "    return [' '.join(ngram) for ngram in ngrams]"
   ]
  },
  {
   "cell_type": "code",
   "execution_count": 30,
   "metadata": {},
   "outputs": [
    {
     "name": "stdout",
     "output_type": "stream",
     "text": [
      "Requirement already satisfied: fbpca in /opt/anaconda3/lib/python3.8/site-packages (1.0)\n"
     ]
    }
   ],
   "source": [
    "!pip3 install fbpca"
   ]
  },
  {
   "cell_type": "code",
   "execution_count": 31,
   "metadata": {
    "execution": {
     "iopub.execute_input": "2021-06-03T19:50:55.370946Z",
     "iopub.status.busy": "2021-06-03T19:50:55.370534Z",
     "iopub.status.idle": "2021-06-03T19:50:55.714415Z",
     "shell.execute_reply": "2021-06-03T19:50:55.713521Z",
     "shell.execute_reply.started": "2021-06-03T19:50:55.370902Z"
    }
   },
   "outputs": [],
   "source": [
    "from sklearn.feature_extraction.text import TfidfVectorizer\n",
    "from scipy import linalg\n",
    "from sklearn import decomposition\n",
    "import fbpca\n",
    "\n",
    "number_of_topics = 30\n",
    "num_top_words = 20\n",
    "vectorizer = TfidfVectorizer()"
   ]
  },
  {
   "cell_type": "code",
   "execution_count": 37,
   "metadata": {
    "execution": {
     "iopub.execute_input": "2021-06-03T19:51:31.248352Z",
     "iopub.status.busy": "2021-06-03T19:51:31.247737Z",
     "iopub.status.idle": "2021-06-03T19:51:31.258145Z",
     "shell.execute_reply": "2021-06-03T19:51:31.257354Z",
     "shell.execute_reply.started": "2021-06-03T19:51:31.248312Z"
    }
   },
   "outputs": [],
   "source": [
    "bigram_vectorizer = TfidfVectorizer(ngram_range=(2,2))"
   ]
  },
  {
   "cell_type": "code",
   "execution_count": 38,
   "metadata": {
    "execution": {
     "iopub.execute_input": "2021-06-03T19:51:31.259788Z",
     "iopub.status.busy": "2021-06-03T19:51:31.259427Z",
     "iopub.status.idle": "2021-06-03T19:51:51.881064Z",
     "shell.execute_reply": "2021-06-03T19:51:51.880073Z",
     "shell.execute_reply.started": "2021-06-03T19:51:31.259760Z"
    }
   },
   "outputs": [],
   "source": [
    "bigrams_vectors = bigram_vectorizer.fit_transform(body_list).todense()\n",
    "bigrams_vocab = np.array(bigram_vectorizer.get_feature_names())"
   ]
  },
  {
   "cell_type": "markdown",
   "metadata": {},
   "source": [
    "# LDA"
   ]
  },
  {
   "cell_type": "code",
   "execution_count": 39,
   "metadata": {
    "execution": {
     "iopub.execute_input": "2021-06-03T19:59:10.839095Z",
     "iopub.status.busy": "2021-06-03T19:59:10.838781Z",
     "iopub.status.idle": "2021-06-03T19:59:11.127230Z",
     "shell.execute_reply": "2021-06-03T19:59:11.126164Z",
     "shell.execute_reply.started": "2021-06-03T19:59:10.839064Z"
    }
   },
   "outputs": [],
   "source": [
    "docs = [body.split() for body in body_list]"
   ]
  },
  {
   "cell_type": "code",
   "execution_count": 40,
   "metadata": {
    "execution": {
     "iopub.execute_input": "2021-06-03T19:59:11.129435Z",
     "iopub.status.busy": "2021-06-03T19:59:11.128991Z",
     "iopub.status.idle": "2021-06-03T19:59:15.988836Z",
     "shell.execute_reply": "2021-06-03T19:59:15.988126Z",
     "shell.execute_reply.started": "2021-06-03T19:59:11.129385Z"
    }
   },
   "outputs": [
    {
     "name": "stderr",
     "output_type": "stream",
     "text": [
      "2021-11-19 18:59:14.924 INFO    gensim.corpora.dictionary: adding document #0 to Dictionary(0 unique tokens: [])\n",
      "2021-11-19 18:59:14.981 INFO    gensim.corpora.dictionary: built Dictionary(8291 unique tokens: ['2fa', 'acting', 'actions', 'afford', 'age']...) from 684 documents (total 48596 corpus positions)\n",
      "2021-11-19 18:59:15.007 INFO    gensim.utils: Dictionary lifecycle event {'msg': \"built Dictionary(8291 unique tokens: ['2fa', 'acting', 'actions', 'afford', 'age']...) from 684 documents (total 48596 corpus positions)\", 'datetime': '2021-11-19T18:59:14.982242', 'gensim': '4.1.2', 'python': '3.8.8 (default, Apr 13 2021, 12:59:45) \\n[Clang 10.0.0 ]', 'platform': 'macOS-10.16-x86_64-i386-64bit', 'event': 'created'}\n"
     ]
    }
   ],
   "source": [
    "from gensim.corpora import Dictionary\n",
    "\n",
    "dic = Dictionary(docs)"
   ]
  },
  {
   "cell_type": "code",
   "execution_count": 41,
   "metadata": {
    "execution": {
     "iopub.execute_input": "2021-06-03T19:59:15.990471Z",
     "iopub.status.busy": "2021-06-03T19:59:15.990123Z",
     "iopub.status.idle": "2021-06-03T19:59:18.060087Z",
     "shell.execute_reply": "2021-06-03T19:59:18.058988Z",
     "shell.execute_reply.started": "2021-06-03T19:59:15.990438Z"
    }
   },
   "outputs": [],
   "source": [
    "corpus = [dic.doc2bow(doc) for doc in docs]"
   ]
  },
  {
   "cell_type": "markdown",
   "metadata": {},
   "source": [
    "## Training \n",
    "\n",
    "Now it's time to train our topic model. We do this with the following parameters:\n",
    "\n",
    "- **corpus**: the bag-of-word representations of our documents\n",
    "- **id2token**: the mapping from indices to words\n",
    "- **num_topics**: the number of topics we want the model to identify\n",
    "- **chunksize**: the number of documents the model sees for every update\n",
    "- **passes**: the number of times we show the total corpus to the model during training\n",
    "- **random_state**: we use a seed to ensure reproducibility."
   ]
  },
  {
   "cell_type": "code",
   "execution_count": 42,
   "metadata": {
    "execution": {
     "iopub.execute_input": "2021-06-03T19:59:18.061846Z",
     "iopub.status.busy": "2021-06-03T19:59:18.061522Z",
     "iopub.status.idle": "2021-06-03T20:00:30.470318Z",
     "shell.execute_reply": "2021-06-03T20:00:30.469314Z",
     "shell.execute_reply.started": "2021-06-03T19:59:18.061814Z"
    }
   },
   "outputs": [
    {
     "name": "stderr",
     "output_type": "stream",
     "text": [
      "2021-11-19 18:59:23.509 INFO    gensim.models.ldamodel: using symmetric alpha at 0.03333333333333333\n",
      "2021-11-19 18:59:23.511 INFO    gensim.models.ldamodel: using symmetric eta at 0.03333333333333333\n",
      "2021-11-19 18:59:23.516 INFO    gensim.models.ldamodel: using serial LDA version on this node\n",
      "2021-11-19 18:59:23.545 INFO    gensim.models.ldamodel: running online (multi-pass) LDA training, 30 topics, 5 passes over the supplied corpus of 684 documents, updating model once every 684 documents, evaluating perplexity every 684 documents, iterating 50x with a convergence threshold of 0.001000\n",
      "2021-11-19 18:59:23.546 WARNING gensim.models.ldamodel: too few updates, training might not converge; consider increasing the number of passes or iterations to improve accuracy\n",
      "2021-11-19 18:59:23.870 INFO    gensim.models.ldamodel: -19.919 per-word bound, 991029.1 perplexity estimate based on a held-out corpus of 684 documents with 48596 words\n",
      "2021-11-19 18:59:23.870 INFO    gensim.models.ldamodel: PROGRESS: pass 0, at document #684/684\n",
      "2021-11-19 18:59:24.102 INFO    gensim.models.ldamodel: topic #10 (0.033): 0.023*\"nt\" + 0.008*\"m\" + 0.008*\"think\" + 0.008*\"people\" + 0.006*\"crypto\" + 0.005*\"like\" + 0.005*\"market\" + 0.004*\"price\" + 0.004*\"going\" + 0.004*\"time\"\n",
      "2021-11-19 18:59:24.103 INFO    gensim.models.ldamodel: topic #22 (0.033): 0.008*\"crypto\" + 0.005*\"nt\" + 0.005*\"like\" + 0.005*\"m\" + 0.005*\"bitcoin\" + 0.004*\"people\" + 0.004*\"market\" + 0.004*\"long\" + 0.004*\"time\" + 0.003*\"data\"\n",
      "2021-11-19 18:59:24.104 INFO    gensim.models.ldamodel: topic #11 (0.033): 0.014*\"crypto\" + 0.008*\"nt\" + 0.007*\"market\" + 0.006*\"value\" + 0.006*\"like\" + 0.005*\"portfolio\" + 0.005*\"total\" + 0.005*\"eth\" + 0.005*\"time\" + 0.004*\"know\"\n",
      "2021-11-19 18:59:24.104 INFO    gensim.models.ldamodel: topic #5 (0.033): 0.014*\"value\" + 0.006*\"market\" + 0.005*\"portfolio\" + 0.005*\"cro\" + 0.005*\"crypto\" + 0.005*\"price\" + 0.005*\"blockchain\" + 0.005*\"time\" + 0.004*\"use\" + 0.004*\"like\"\n",
      "2021-11-19 18:59:24.104 INFO    gensim.models.ldamodel: topic #4 (0.033): 0.011*\"crypto\" + 0.011*\"value\" + 0.007*\"like\" + 0.006*\"money\" + 0.006*\"people\" + 0.006*\"nt\" + 0.005*\"buy\" + 0.005*\"investors\" + 0.004*\"defi\" + 0.004*\"market\"\n",
      "2021-11-19 18:59:24.105 INFO    gensim.models.ldamodel: topic diff=17.863411, rho=1.000000\n",
      "2021-11-19 18:59:24.323 INFO    gensim.models.ldamodel: -10.245 per-word bound, 1213.3 perplexity estimate based on a held-out corpus of 684 documents with 48596 words\n",
      "2021-11-19 18:59:24.323 INFO    gensim.models.ldamodel: PROGRESS: pass 1, at document #684/684\n",
      "2021-11-19 18:59:24.454 INFO    gensim.models.ldamodel: topic #13 (0.033): 0.012*\"crypto\" + 0.009*\"market\" + 0.009*\"bitcoin\" + 0.007*\"smart\" + 0.006*\"nt\" + 0.005*\"contracts\" + 0.005*\"deaf\" + 0.005*\"know\" + 0.004*\"·\" + 0.004*\"value\"\n",
      "2021-11-19 18:59:24.455 INFO    gensim.models.ldamodel: topic #8 (0.033): 0.008*\"market\" + 0.008*\"bitcoin\" + 0.007*\"binance\" + 0.006*\"information\" + 0.005*\"way\" + 0.005*\"moons\" + 0.005*\"use\" + 0.005*\"share\" + 0.005*\"nt\" + 0.004*\"transaction\"\n",
      "2021-11-19 18:59:24.455 INFO    gensim.models.ldamodel: topic #20 (0.033): 0.011*\"crypto\" + 0.008*\"people\" + 0.007*\"earn\" + 0.007*\"like\" + 0.006*\"m\" + 0.006*\"good\" + 0.006*\"card\" + 0.005*\"nt\" + 0.005*\"know\" + 0.005*\"btc\"\n",
      "2021-11-19 18:59:24.455 INFO    gensim.models.ldamodel: topic #28 (0.033): 0.020*\"crypto\" + 0.007*\"nt\" + 0.007*\"buy\" + 0.006*\"money\" + 0.006*\"time\" + 0.006*\"market\" + 0.005*\"value\" + 0.005*\"know\" + 0.005*\"like\" + 0.004*\"sell\"\n",
      "2021-11-19 18:59:24.456 INFO    gensim.models.ldamodel: topic #24 (0.033): 0.009*\"projects\" + 0.007*\"market\" + 0.006*\"time\" + 0.005*\"nt\" + 0.004*\"buy\" + 0.004*\"cro\" + 0.004*\"·\" + 0.004*\"bought\" + 0.004*\"like\" + 0.004*\"crypto\"\n",
      "2021-11-19 18:59:24.456 INFO    gensim.models.ldamodel: topic diff=2.012303, rho=0.577350\n",
      "2021-11-19 18:59:24.637 INFO    gensim.models.ldamodel: -9.343 per-word bound, 649.6 perplexity estimate based on a held-out corpus of 684 documents with 48596 words\n",
      "2021-11-19 18:59:24.638 INFO    gensim.models.ldamodel: PROGRESS: pass 2, at document #684/684\n",
      "2021-11-19 18:59:24.740 INFO    gensim.models.ldamodel: topic #17 (0.033): 0.009*\"crypto\" + 0.007*\"wallet\" + 0.006*\"like\" + 0.006*\"nt\" + 0.006*\"tether\" + 0.005*\"buy\" + 0.005*\"market\" + 0.005*\"report\" + 0.005*\"…\" + 0.004*\"2021\"\n",
      "2021-11-19 18:59:24.740 INFO    gensim.models.ldamodel: topic #24 (0.033): 0.009*\"projects\" + 0.006*\"market\" + 0.006*\"nt\" + 0.006*\"bought\" + 0.005*\"time\" + 0.005*\"cro\" + 0.005*\"buy\" + 0.005*\"big\" + 0.005*\"people\" + 0.004*\"thing\"\n",
      "2021-11-19 18:59:24.741 INFO    gensim.models.ldamodel: topic #21 (0.033): 0.029*\"moons\" + 0.024*\"likes\" + 0.020*\"posts\" + 0.009*\"like\" + 0.008*\"crypto\" + 0.006*\"u6\" + 0.006*\"people\" + 0.006*\"20\" + 0.006*\"u2\" + 0.005*\"5\"\n",
      "2021-11-19 18:59:24.741 INFO    gensim.models.ldamodel: topic #15 (0.033): 0.015*\"monero\" + 0.013*\"xmr\" + 0.012*\"nt\" + 0.009*\"kraken\" + 0.009*\"like\" + 0.009*\"margin\" + 0.008*\"positions\" + 0.008*\"open\" + 0.008*\"november\" + 0.008*\"people\"\n",
      "2021-11-19 18:59:24.742 INFO    gensim.models.ldamodel: topic #22 (0.033): 0.011*\"countries\" + 0.009*\"m\" + 0.008*\"crypto\" + 0.007*\"cbdc\" + 0.006*\"end\" + 0.006*\"prediction\" + 0.006*\"98k\" + 0.006*\"digital\" + 0.005*\"like\" + 0.005*\"nt\"\n",
      "2021-11-19 18:59:24.742 INFO    gensim.models.ldamodel: topic diff=1.572419, rho=0.500000\n",
      "2021-11-19 18:59:24.932 INFO    gensim.models.ldamodel: -8.926 per-word bound, 486.4 perplexity estimate based on a held-out corpus of 684 documents with 48596 words\n",
      "2021-11-19 18:59:24.933 INFO    gensim.models.ldamodel: PROGRESS: pass 3, at document #684/684\n",
      "2021-11-19 18:59:25.043 INFO    gensim.models.ldamodel: topic #27 (0.033): 0.016*\"crypto\" + 0.011*\"nt\" + 0.008*\"time\" + 0.007*\"market\" + 0.007*\"like\" + 0.005*\"think\" + 0.005*\"money\" + 0.004*\"m\" + 0.004*\"price\" + 0.004*\"lot\"\n",
      "2021-11-19 18:59:25.044 INFO    gensim.models.ldamodel: topic #7 (0.033): 0.018*\"crypto\" + 0.012*\"nt\" + 0.011*\"polygon\" + 0.010*\"like\" + 0.007*\"people\" + 0.007*\"bitcoin\" + 0.007*\"new\" + 0.005*\"miden\" + 0.005*\"good\" + 0.005*\"need\"\n",
      "2021-11-19 18:59:25.044 INFO    gensim.models.ldamodel: topic #9 (0.033): 0.019*\"market\" + 0.011*\"think\" + 0.010*\"nt\" + 0.010*\"like\" + 0.008*\"people\" + 0.007*\"cap\" + 0.007*\"coins\" + 0.007*\"crypto\" + 0.007*\"luna\" + 0.006*\"buy\"\n",
      "2021-11-19 18:59:25.045 INFO    gensim.models.ldamodel: topic #26 (0.033): 0.015*\"auction\" + 0.010*\"nt\" + 0.010*\"2021\" + 0.010*\"buy\" + 0.009*\"crypto\" + 0.009*\"dip\" + 0.008*\"2022\" + 0.007*\"time\" + 0.007*\"dec\" + 0.006*\"good\"\n",
      "2021-11-19 18:59:25.045 INFO    gensim.models.ldamodel: topic #12 (0.033): 0.032*\"2021\" + 0.023*\"crypto\" + 0.017*\"experiment\" + 0.014*\"january\" + 0.011*\"sp\" + 0.010*\"index\" + 0.010*\"portfolio\" + 0.009*\"month\" + 0.009*\"500\" + 0.009*\"october\"\n",
      "2021-11-19 18:59:25.046 INFO    gensim.models.ldamodel: topic diff=1.193473, rho=0.447214\n",
      "2021-11-19 18:59:25.236 INFO    gensim.models.ldamodel: -8.708 per-word bound, 418.2 perplexity estimate based on a held-out corpus of 684 documents with 48596 words\n",
      "2021-11-19 18:59:25.237 INFO    gensim.models.ldamodel: PROGRESS: pass 4, at document #684/684\n",
      "2021-11-19 18:59:25.338 INFO    gensim.models.ldamodel: topic #25 (0.033): 0.010*\"time\" + 0.010*\"nt\" + 0.009*\"crypto\" + 0.009*\"money\" + 0.008*\"price\" + 0.008*\"m\" + 0.006*\"dip\" + 0.006*\"like\" + 0.006*\"people\" + 0.005*\"buy\"\n",
      "2021-11-19 18:59:25.338 INFO    gensim.models.ldamodel: topic #19 (0.033): 0.012*\"like\" + 0.008*\"people\" + 0.008*\"bitcoin\" + 0.008*\"buy\" + 0.007*\"btc\" + 0.007*\"money\" + 0.006*\"little\" + 0.006*\"said\" + 0.006*\"nt\" + 0.005*\"moon\"\n",
      "2021-11-19 18:59:25.339 INFO    gensim.models.ldamodel: topic #21 (0.033): 0.035*\"moons\" + 0.027*\"likes\" + 0.022*\"posts\" + 0.009*\"like\" + 0.008*\"crypto\" + 0.007*\"u6\" + 0.007*\"20\" + 0.007*\"u2\" + 0.006*\"5\" + 0.006*\"u1\"\n",
      "2021-11-19 18:59:25.339 INFO    gensim.models.ldamodel: topic #27 (0.033): 0.016*\"crypto\" + 0.011*\"nt\" + 0.008*\"time\" + 0.007*\"like\" + 0.006*\"market\" + 0.005*\"money\" + 0.005*\"think\" + 0.004*\"m\" + 0.004*\"price\" + 0.004*\"lot\"\n",
      "2021-11-19 18:59:25.340 INFO    gensim.models.ldamodel: topic #22 (0.033): 0.013*\"countries\" + 0.010*\"m\" + 0.009*\"cbdc\" + 0.008*\"crypto\" + 0.007*\"digital\" + 0.006*\"prediction\" + 0.006*\"end\" + 0.006*\"98k\" + 0.006*\"income\" + 0.006*\"international\"\n",
      "2021-11-19 18:59:25.340 INFO    gensim.models.ldamodel: topic diff=0.892806, rho=0.408248\n",
      "2021-11-19 18:59:25.341 INFO    gensim.utils: LdaModel lifecycle event {'msg': 'trained LdaModel(num_terms=8291, num_topics=30, decay=0.5, chunksize=2500) in 1.80s', 'datetime': '2021-11-19T18:59:25.341827', 'gensim': '4.1.2', 'python': '3.8.8 (default, Apr 13 2021, 12:59:45) \\n[Clang 10.0.0 ]', 'platform': 'macOS-10.16-x86_64-i386-64bit', 'event': 'created'}\n"
     ]
    }
   ],
   "source": [
    "from gensim.models import LdaModel\n",
    "\n",
    "model = LdaModel(corpus=corpus, id2word=dic, num_topics=number_of_topics, chunksize=2500, passes=5, random_state=1)"
   ]
  },
  {
   "cell_type": "code",
   "execution_count": 46,
   "metadata": {},
   "outputs": [
    {
     "name": "stderr",
     "output_type": "stream",
     "text": [
      "2021-11-19 19:04:27.885 INFO    gensim.models.ldamodel: topic #10 (0.033): 0.025*\"nt\" + 0.010*\"think\" + 0.009*\"m\" + 0.008*\"people\" + 0.006*\"crypto\" + 0.005*\"going\" + 0.005*\"like\" + 0.005*\"believe\" + 0.005*\"new\" + 0.005*\"price\"\n",
      "2021-11-19 19:04:27.887 INFO    gensim.models.ldamodel: topic #23 (0.033): 0.028*\"value\" + 0.022*\"portfolio\" + 0.019*\"total\" + 0.016*\"€\" + 0.015*\"market\" + 0.015*\"investment\" + 0.014*\"profits\" + 0.013*\"monetary\" + 0.013*\"month\" + 0.012*\"taking\"\n",
      "2021-11-19 19:04:27.888 INFO    gensim.models.ldamodel: topic #5 (0.033): 0.013*\"cro\" + 0.012*\"value\" + 0.011*\"ethereum\" + 0.010*\"defi\" + 0.009*\"blockchain\" + 0.008*\"use\" + 0.007*\"card\" + 0.007*\"token\" + 0.006*\"algorand\" + 0.006*\"app\"\n",
      "2021-11-19 19:04:27.890 INFO    gensim.models.ldamodel: topic #17 (0.033): 0.008*\"crypto\" + 0.008*\"wallet\" + 0.006*\"tether\" + 0.006*\"report\" + 0.006*\"nt\" + 0.006*\"buy\" + 0.006*\"like\" + 0.005*\"…\" + 0.004*\"going\" + 0.004*\"market\"\n",
      "2021-11-19 19:04:27.891 INFO    gensim.models.ldamodel: topic #20 (0.033): 0.012*\"crypto\" + 0.008*\"earn\" + 0.008*\"card\" + 0.007*\"people\" + 0.007*\"like\" + 0.007*\"good\" + 0.006*\"m\" + 0.006*\"nfts\" + 0.006*\"project\" + 0.005*\"worth\"\n",
      "2021-11-19 19:04:27.892 INFO    gensim.models.ldamodel: topic #22 (0.033): 0.013*\"countries\" + 0.010*\"m\" + 0.009*\"cbdc\" + 0.008*\"crypto\" + 0.007*\"digital\" + 0.006*\"prediction\" + 0.006*\"end\" + 0.006*\"98k\" + 0.006*\"income\" + 0.006*\"international\"\n",
      "2021-11-19 19:04:27.894 INFO    gensim.models.ldamodel: topic #15 (0.033): 0.016*\"monero\" + 0.015*\"xmr\" + 0.012*\"nt\" + 0.011*\"kraken\" + 0.010*\"margin\" + 0.009*\"like\" + 0.009*\"positions\" + 0.009*\"open\" + 0.009*\"november\" + 0.008*\"people\"\n",
      "2021-11-19 19:04:27.895 INFO    gensim.models.ldamodel: topic #9 (0.033): 0.020*\"market\" + 0.011*\"think\" + 0.010*\"nt\" + 0.010*\"like\" + 0.008*\"cap\" + 0.008*\"people\" + 0.007*\"luna\" + 0.007*\"coins\" + 0.007*\"crypto\" + 0.006*\"buy\"\n",
      "2021-11-19 19:04:27.896 INFO    gensim.models.ldamodel: topic #3 (0.033): 0.011*\"digital\" + 0.011*\"asset\" + 0.009*\"crypto\" + 0.009*\"eth\" + 0.008*\"•\" + 0.008*\"act\" + 0.007*\"fix\" + 0.007*\"reporting\" + 0.007*\"sell\" + 0.007*\"coin\"\n",
      "2021-11-19 19:04:27.897 INFO    gensim.models.ldamodel: topic #4 (0.033): 0.010*\"crypto\" + 0.009*\"people\" + 0.009*\"nt\" + 0.008*\"like\" + 0.008*\"nft\" + 0.007*\"investors\" + 0.007*\"buy\" + 0.006*\"money\" + 0.006*\"defi\" + 0.006*\"institutions\"\n",
      "2021-11-19 19:04:27.897 INFO    gensim.models.ldamodel: topic #21 (0.033): 0.035*\"moons\" + 0.027*\"likes\" + 0.022*\"posts\" + 0.009*\"like\" + 0.008*\"crypto\" + 0.007*\"u6\" + 0.007*\"20\" + 0.007*\"u2\" + 0.006*\"5\" + 0.006*\"u1\"\n",
      "2021-11-19 19:04:27.898 INFO    gensim.models.ldamodel: topic #6 (0.033): 0.012*\"crypto\" + 0.009*\"btc\" + 0.008*\"market\" + 0.007*\"project\" + 0.007*\"people\" + 0.007*\"time\" + 0.007*\"price\" + 0.007*\"eth\" + 0.006*\"like\" + 0.006*\"bitcoin\"\n",
      "2021-11-19 19:04:27.899 INFO    gensim.models.ldamodel: topic #2 (0.033): 0.017*\"m\" + 0.014*\"nt\" + 0.009*\"know\" + 0.009*\"gains\" + 0.008*\"moons\" + 0.008*\"buy\" + 0.007*\"crypto\" + 0.007*\"like\" + 0.006*\"going\" + 0.006*\"year\"\n",
      "2021-11-19 19:04:27.900 INFO    gensim.models.ldamodel: topic #27 (0.033): 0.016*\"crypto\" + 0.011*\"nt\" + 0.008*\"time\" + 0.007*\"like\" + 0.006*\"market\" + 0.005*\"money\" + 0.005*\"think\" + 0.004*\"m\" + 0.004*\"price\" + 0.004*\"lot\"\n",
      "2021-11-19 19:04:27.901 INFO    gensim.models.ldamodel: topic #24 (0.033): 0.010*\"projects\" + 0.007*\"nt\" + 0.007*\"bought\" + 0.006*\"cro\" + 0.006*\"big\" + 0.006*\"market\" + 0.006*\"buy\" + 0.005*\"people\" + 0.005*\"time\" + 0.005*\"wo\"\n",
      "2021-11-19 19:04:27.901 INFO    gensim.models.ldamodel: topic #16 (0.033): 0.013*\"crypto\" + 0.011*\"people\" + 0.009*\"nt\" + 0.008*\"like\" + 0.008*\"time\" + 0.007*\"dip\" + 0.007*\"buy\" + 0.007*\"market\" + 0.007*\"know\" + 0.006*\"discord\"\n",
      "2021-11-19 19:04:27.902 INFO    gensim.models.ldamodel: topic #13 (0.033): 0.011*\"bitcoin\" + 0.010*\"smart\" + 0.010*\"crypto\" + 0.008*\"market\" + 0.007*\"deaf\" + 0.007*\"contracts\" + 0.007*\"·\" + 0.005*\"algorand\" + 0.005*\"defi\" + 0.005*\"moonbeam\"\n",
      "2021-11-19 19:04:27.903 INFO    gensim.models.ldamodel: topic #8 (0.033): 0.010*\"binance\" + 0.009*\"information\" + 0.009*\"bitcoin\" + 0.008*\"market\" + 0.007*\"share\" + 0.006*\"use\" + 0.006*\"transaction\" + 0.006*\"fees\" + 0.006*\"way\" + 0.005*\"read\"\n",
      "2021-11-19 19:04:27.904 INFO    gensim.models.ldamodel: topic #29 (0.033): 0.013*\"wallets\" + 0.012*\"bitcoin\" + 0.009*\"satoshi\" + 0.007*\"wallet\" + 0.006*\"dip\" + 0.006*\"like\" + 0.006*\"2017\" + 0.006*\"bull\" + 0.006*\"people\" + 0.005*\"nt\"\n",
      "2021-11-19 19:04:27.905 INFO    gensim.models.ldamodel: topic #19 (0.033): 0.012*\"like\" + 0.008*\"people\" + 0.008*\"bitcoin\" + 0.008*\"buy\" + 0.007*\"btc\" + 0.007*\"money\" + 0.006*\"little\" + 0.006*\"said\" + 0.006*\"nt\" + 0.005*\"moon\"\n"
     ]
    },
    {
     "data": {
      "text/plain": [
       "[(10,\n",
       "  '0.025*\"nt\" + 0.010*\"think\" + 0.009*\"m\" + 0.008*\"people\" + 0.006*\"crypto\" + 0.005*\"going\" + 0.005*\"like\" + 0.005*\"believe\" + 0.005*\"new\" + 0.005*\"price\"'),\n",
       " (23,\n",
       "  '0.028*\"value\" + 0.022*\"portfolio\" + 0.019*\"total\" + 0.016*\"€\" + 0.015*\"market\" + 0.015*\"investment\" + 0.014*\"profits\" + 0.013*\"monetary\" + 0.013*\"month\" + 0.012*\"taking\"'),\n",
       " (5,\n",
       "  '0.013*\"cro\" + 0.012*\"value\" + 0.011*\"ethereum\" + 0.010*\"defi\" + 0.009*\"blockchain\" + 0.008*\"use\" + 0.007*\"card\" + 0.007*\"token\" + 0.006*\"algorand\" + 0.006*\"app\"'),\n",
       " (17,\n",
       "  '0.008*\"crypto\" + 0.008*\"wallet\" + 0.006*\"tether\" + 0.006*\"report\" + 0.006*\"nt\" + 0.006*\"buy\" + 0.006*\"like\" + 0.005*\"…\" + 0.004*\"going\" + 0.004*\"market\"'),\n",
       " (20,\n",
       "  '0.012*\"crypto\" + 0.008*\"earn\" + 0.008*\"card\" + 0.007*\"people\" + 0.007*\"like\" + 0.007*\"good\" + 0.006*\"m\" + 0.006*\"nfts\" + 0.006*\"project\" + 0.005*\"worth\"'),\n",
       " (22,\n",
       "  '0.013*\"countries\" + 0.010*\"m\" + 0.009*\"cbdc\" + 0.008*\"crypto\" + 0.007*\"digital\" + 0.006*\"prediction\" + 0.006*\"end\" + 0.006*\"98k\" + 0.006*\"income\" + 0.006*\"international\"'),\n",
       " (15,\n",
       "  '0.016*\"monero\" + 0.015*\"xmr\" + 0.012*\"nt\" + 0.011*\"kraken\" + 0.010*\"margin\" + 0.009*\"like\" + 0.009*\"positions\" + 0.009*\"open\" + 0.009*\"november\" + 0.008*\"people\"'),\n",
       " (9,\n",
       "  '0.020*\"market\" + 0.011*\"think\" + 0.010*\"nt\" + 0.010*\"like\" + 0.008*\"cap\" + 0.008*\"people\" + 0.007*\"luna\" + 0.007*\"coins\" + 0.007*\"crypto\" + 0.006*\"buy\"'),\n",
       " (3,\n",
       "  '0.011*\"digital\" + 0.011*\"asset\" + 0.009*\"crypto\" + 0.009*\"eth\" + 0.008*\"•\" + 0.008*\"act\" + 0.007*\"fix\" + 0.007*\"reporting\" + 0.007*\"sell\" + 0.007*\"coin\"'),\n",
       " (4,\n",
       "  '0.010*\"crypto\" + 0.009*\"people\" + 0.009*\"nt\" + 0.008*\"like\" + 0.008*\"nft\" + 0.007*\"investors\" + 0.007*\"buy\" + 0.006*\"money\" + 0.006*\"defi\" + 0.006*\"institutions\"'),\n",
       " (21,\n",
       "  '0.035*\"moons\" + 0.027*\"likes\" + 0.022*\"posts\" + 0.009*\"like\" + 0.008*\"crypto\" + 0.007*\"u6\" + 0.007*\"20\" + 0.007*\"u2\" + 0.006*\"5\" + 0.006*\"u1\"'),\n",
       " (6,\n",
       "  '0.012*\"crypto\" + 0.009*\"btc\" + 0.008*\"market\" + 0.007*\"project\" + 0.007*\"people\" + 0.007*\"time\" + 0.007*\"price\" + 0.007*\"eth\" + 0.006*\"like\" + 0.006*\"bitcoin\"'),\n",
       " (2,\n",
       "  '0.017*\"m\" + 0.014*\"nt\" + 0.009*\"know\" + 0.009*\"gains\" + 0.008*\"moons\" + 0.008*\"buy\" + 0.007*\"crypto\" + 0.007*\"like\" + 0.006*\"going\" + 0.006*\"year\"'),\n",
       " (27,\n",
       "  '0.016*\"crypto\" + 0.011*\"nt\" + 0.008*\"time\" + 0.007*\"like\" + 0.006*\"market\" + 0.005*\"money\" + 0.005*\"think\" + 0.004*\"m\" + 0.004*\"price\" + 0.004*\"lot\"'),\n",
       " (24,\n",
       "  '0.010*\"projects\" + 0.007*\"nt\" + 0.007*\"bought\" + 0.006*\"cro\" + 0.006*\"big\" + 0.006*\"market\" + 0.006*\"buy\" + 0.005*\"people\" + 0.005*\"time\" + 0.005*\"wo\"'),\n",
       " (16,\n",
       "  '0.013*\"crypto\" + 0.011*\"people\" + 0.009*\"nt\" + 0.008*\"like\" + 0.008*\"time\" + 0.007*\"dip\" + 0.007*\"buy\" + 0.007*\"market\" + 0.007*\"know\" + 0.006*\"discord\"'),\n",
       " (13,\n",
       "  '0.011*\"bitcoin\" + 0.010*\"smart\" + 0.010*\"crypto\" + 0.008*\"market\" + 0.007*\"deaf\" + 0.007*\"contracts\" + 0.007*\"·\" + 0.005*\"algorand\" + 0.005*\"defi\" + 0.005*\"moonbeam\"'),\n",
       " (8,\n",
       "  '0.010*\"binance\" + 0.009*\"information\" + 0.009*\"bitcoin\" + 0.008*\"market\" + 0.007*\"share\" + 0.006*\"use\" + 0.006*\"transaction\" + 0.006*\"fees\" + 0.006*\"way\" + 0.005*\"read\"'),\n",
       " (29,\n",
       "  '0.013*\"wallets\" + 0.012*\"bitcoin\" + 0.009*\"satoshi\" + 0.007*\"wallet\" + 0.006*\"dip\" + 0.006*\"like\" + 0.006*\"2017\" + 0.006*\"bull\" + 0.006*\"people\" + 0.005*\"nt\"'),\n",
       " (19,\n",
       "  '0.012*\"like\" + 0.008*\"people\" + 0.008*\"bitcoin\" + 0.008*\"buy\" + 0.007*\"btc\" + 0.007*\"money\" + 0.006*\"little\" + 0.006*\"said\" + 0.006*\"nt\" + 0.005*\"moon\"')]"
      ]
     },
     "execution_count": 46,
     "metadata": {},
     "output_type": "execute_result"
    }
   ],
   "source": [
    "model.print_topics()"
   ]
  },
  {
   "cell_type": "code",
   "execution_count": 51,
   "metadata": {},
   "outputs": [
    {
     "data": {
      "text/plain": [
       "[]"
      ]
     },
     "execution_count": 51,
     "metadata": {},
     "output_type": "execute_result"
    }
   ],
   "source": []
  },
  {
   "cell_type": "code",
   "execution_count": 43,
   "metadata": {
    "execution": {
     "iopub.execute_input": "2021-06-03T20:15:48.498200Z",
     "iopub.status.busy": "2021-06-03T20:15:48.497749Z",
     "iopub.status.idle": "2021-06-03T20:15:48.517838Z",
     "shell.execute_reply": "2021-06-03T20:15:48.516862Z",
     "shell.execute_reply.started": "2021-06-03T20:15:48.498143Z"
    }
   },
   "outputs": [
    {
     "name": "stderr",
     "output_type": "stream",
     "text": [
      "2021-11-19 18:59:34.515 INFO    gensim.models.ldamodel: topic #26 (0.033): 0.016*\"auction\" + 0.011*\"buy\" + 0.011*\"nt\" + 0.010*\"2021\" + 0.010*\"dip\" + 0.009*\"crypto\" + 0.009*\"2022\" + 0.007*\"time\" + 0.007*\"dec\" + 0.007*\"good\"\n",
      "2021-11-19 18:59:34.516 INFO    gensim.models.ldamodel: topic #18 (0.033): 0.012*\"nt\" + 0.011*\"eth\" + 0.010*\"like\" + 0.009*\"nano\" + 0.009*\"people\" + 0.008*\"ve\" + 0.007*\"fees\" + 0.007*\"crypto\" + 0.006*\"gas\" + 0.006*\"bank\"\n",
      "2021-11-19 18:59:34.517 INFO    gensim.models.ldamodel: topic #5 (0.033): 0.013*\"cro\" + 0.012*\"value\" + 0.011*\"ethereum\" + 0.010*\"defi\" + 0.009*\"blockchain\" + 0.008*\"use\" + 0.007*\"card\" + 0.007*\"token\" + 0.006*\"algorand\" + 0.006*\"app\"\n",
      "2021-11-19 18:59:34.519 INFO    gensim.models.ldamodel: topic #12 (0.033): 0.033*\"2021\" + 0.023*\"crypto\" + 0.017*\"experiment\" + 0.014*\"january\" + 0.011*\"sp\" + 0.010*\"month\" + 0.010*\"index\" + 0.010*\"portfolio\" + 0.009*\"500\" + 0.009*\"october\"\n",
      "2021-11-19 18:59:34.520 INFO    gensim.models.ldamodel: topic #17 (0.033): 0.008*\"crypto\" + 0.008*\"wallet\" + 0.006*\"tether\" + 0.006*\"report\" + 0.006*\"nt\" + 0.006*\"buy\" + 0.006*\"like\" + 0.005*\"…\" + 0.004*\"going\" + 0.004*\"market\"\n",
      "2021-11-19 18:59:34.521 INFO    gensim.models.ldamodel: topic #8 (0.033): 0.010*\"binance\" + 0.009*\"information\" + 0.009*\"bitcoin\" + 0.008*\"market\" + 0.007*\"share\" + 0.006*\"use\" + 0.006*\"transaction\" + 0.006*\"fees\" + 0.006*\"way\" + 0.005*\"read\"\n",
      "2021-11-19 18:59:34.522 INFO    gensim.models.ldamodel: topic #14 (0.033): 0.015*\"metaverse\" + 0.014*\"nfts\" + 0.008*\"think\" + 0.007*\"creating\" + 0.007*\"game\" + 0.007*\"like\" + 0.006*\"crypto\" + 0.006*\"release\" + 0.006*\"…\" + 0.006*\"play\"\n",
      "2021-11-19 18:59:34.522 INFO    gensim.models.ldamodel: topic #23 (0.033): 0.028*\"value\" + 0.022*\"portfolio\" + 0.019*\"total\" + 0.016*\"€\" + 0.015*\"market\" + 0.015*\"investment\" + 0.014*\"profits\" + 0.013*\"monetary\" + 0.013*\"month\" + 0.012*\"taking\"\n",
      "2021-11-19 18:59:34.523 INFO    gensim.models.ldamodel: topic #6 (0.033): 0.012*\"crypto\" + 0.009*\"btc\" + 0.008*\"market\" + 0.007*\"project\" + 0.007*\"people\" + 0.007*\"time\" + 0.007*\"price\" + 0.007*\"eth\" + 0.006*\"like\" + 0.006*\"bitcoin\"\n",
      "2021-11-19 18:59:34.524 INFO    gensim.models.ldamodel: topic #11 (0.033): 0.016*\"crypto\" + 0.010*\"nt\" + 0.010*\"eth\" + 0.008*\"sell\" + 0.007*\"right\" + 0.007*\"panic\" + 0.007*\"bear\" + 0.007*\"think\" + 0.006*\"know\" + 0.006*\"run\"\n",
      "2021-11-19 18:59:34.525 INFO    gensim.models.ldamodel: topic #9 (0.033): 0.020*\"market\" + 0.011*\"think\" + 0.010*\"nt\" + 0.010*\"like\" + 0.008*\"cap\" + 0.008*\"people\" + 0.007*\"luna\" + 0.007*\"coins\" + 0.007*\"crypto\" + 0.006*\"buy\"\n",
      "2021-11-19 18:59:34.526 INFO    gensim.models.ldamodel: topic #0 (0.033): 0.017*\"crypto\" + 0.013*\"market\" + 0.011*\"nt\" + 0.010*\"bitcoin\" + 0.009*\"people\" + 0.008*\"like\" + 0.007*\"price\" + 0.007*\"money\" + 0.007*\"time\" + 0.006*\"buy\"\n",
      "2021-11-19 18:59:34.527 INFO    gensim.models.ldamodel: topic #13 (0.033): 0.011*\"bitcoin\" + 0.010*\"smart\" + 0.010*\"crypto\" + 0.008*\"market\" + 0.007*\"deaf\" + 0.007*\"contracts\" + 0.007*\"·\" + 0.005*\"algorand\" + 0.005*\"defi\" + 0.005*\"moonbeam\"\n",
      "2021-11-19 18:59:34.528 INFO    gensim.models.ldamodel: topic #22 (0.033): 0.013*\"countries\" + 0.010*\"m\" + 0.009*\"cbdc\" + 0.008*\"crypto\" + 0.007*\"digital\" + 0.006*\"prediction\" + 0.006*\"end\" + 0.006*\"98k\" + 0.006*\"income\" + 0.006*\"international\"\n",
      "2021-11-19 18:59:34.529 INFO    gensim.models.ldamodel: topic #24 (0.033): 0.010*\"projects\" + 0.007*\"nt\" + 0.007*\"bought\" + 0.006*\"cro\" + 0.006*\"big\" + 0.006*\"market\" + 0.006*\"buy\" + 0.005*\"people\" + 0.005*\"time\" + 0.005*\"wo\"\n",
      "2021-11-19 18:59:34.529 INFO    gensim.models.ldamodel: topic #20 (0.033): 0.012*\"crypto\" + 0.008*\"earn\" + 0.008*\"card\" + 0.007*\"people\" + 0.007*\"like\" + 0.007*\"good\" + 0.006*\"m\" + 0.006*\"nfts\" + 0.006*\"project\" + 0.005*\"worth\"\n",
      "2021-11-19 18:59:34.530 INFO    gensim.models.ldamodel: topic #29 (0.033): 0.013*\"wallets\" + 0.012*\"bitcoin\" + 0.009*\"satoshi\" + 0.007*\"wallet\" + 0.006*\"dip\" + 0.006*\"like\" + 0.006*\"2017\" + 0.006*\"bull\" + 0.006*\"people\" + 0.005*\"nt\"\n",
      "2021-11-19 18:59:34.531 INFO    gensim.models.ldamodel: topic #10 (0.033): 0.025*\"nt\" + 0.010*\"think\" + 0.009*\"m\" + 0.008*\"people\" + 0.006*\"crypto\" + 0.005*\"going\" + 0.005*\"like\" + 0.005*\"believe\" + 0.005*\"new\" + 0.005*\"price\"\n",
      "2021-11-19 18:59:34.532 INFO    gensim.models.ldamodel: topic #1 (0.033): 0.012*\"price\" + 0.008*\"analysis\" + 0.008*\"like\" + 0.006*\"network\" + 0.006*\"moving\" + 0.006*\"blockchain\" + 0.006*\"helium\" + 0.006*\"crypto\" + 0.005*\"technical\" + 0.005*\"nt\"\n",
      "2021-11-19 18:59:34.533 INFO    gensim.models.ldamodel: topic #16 (0.033): 0.013*\"crypto\" + 0.011*\"people\" + 0.009*\"nt\" + 0.008*\"like\" + 0.008*\"time\" + 0.007*\"dip\" + 0.007*\"buy\" + 0.007*\"market\" + 0.007*\"know\" + 0.006*\"discord\"\n"
     ]
    },
    {
     "name": "stdout",
     "output_type": "stream",
     "text": [
      "27 : 0.016*\"auction\" + 0.011*\"buy\" + 0.011*\"nt\" + 0.010*\"2021\" + 0.010*\"dip\" + 0.009*\"crypto\" + 0.009*\"2022\" + 0.007*\"time\" + 0.007*\"dec\" + 0.007*\"good\" \n",
      "\n",
      "\n",
      "19 : 0.012*\"nt\" + 0.011*\"eth\" + 0.010*\"like\" + 0.009*\"nano\" + 0.009*\"people\" + 0.008*\"ve\" + 0.007*\"fees\" + 0.007*\"crypto\" + 0.006*\"gas\" + 0.006*\"bank\" \n",
      "\n",
      "\n",
      "6 : 0.013*\"cro\" + 0.012*\"value\" + 0.011*\"ethereum\" + 0.010*\"defi\" + 0.009*\"blockchain\" + 0.008*\"use\" + 0.007*\"card\" + 0.007*\"token\" + 0.006*\"algorand\" + 0.006*\"app\" \n",
      "\n",
      "\n",
      "13 : 0.033*\"2021\" + 0.023*\"crypto\" + 0.017*\"experiment\" + 0.014*\"january\" + 0.011*\"sp\" + 0.010*\"month\" + 0.010*\"index\" + 0.010*\"portfolio\" + 0.009*\"500\" + 0.009*\"october\" \n",
      "\n",
      "\n",
      "18 : 0.008*\"crypto\" + 0.008*\"wallet\" + 0.006*\"tether\" + 0.006*\"report\" + 0.006*\"nt\" + 0.006*\"buy\" + 0.006*\"like\" + 0.005*\"…\" + 0.004*\"going\" + 0.004*\"market\" \n",
      "\n",
      "\n",
      "9 : 0.010*\"binance\" + 0.009*\"information\" + 0.009*\"bitcoin\" + 0.008*\"market\" + 0.007*\"share\" + 0.006*\"use\" + 0.006*\"transaction\" + 0.006*\"fees\" + 0.006*\"way\" + 0.005*\"read\" \n",
      "\n",
      "\n",
      "15 : 0.015*\"metaverse\" + 0.014*\"nfts\" + 0.008*\"think\" + 0.007*\"creating\" + 0.007*\"game\" + 0.007*\"like\" + 0.006*\"crypto\" + 0.006*\"release\" + 0.006*\"…\" + 0.006*\"play\" \n",
      "\n",
      "\n",
      "24 : 0.028*\"value\" + 0.022*\"portfolio\" + 0.019*\"total\" + 0.016*\"€\" + 0.015*\"market\" + 0.015*\"investment\" + 0.014*\"profits\" + 0.013*\"monetary\" + 0.013*\"month\" + 0.012*\"taking\" \n",
      "\n",
      "\n",
      "7 : 0.012*\"crypto\" + 0.009*\"btc\" + 0.008*\"market\" + 0.007*\"project\" + 0.007*\"people\" + 0.007*\"time\" + 0.007*\"price\" + 0.007*\"eth\" + 0.006*\"like\" + 0.006*\"bitcoin\" \n",
      "\n",
      "\n",
      "12 : 0.016*\"crypto\" + 0.010*\"nt\" + 0.010*\"eth\" + 0.008*\"sell\" + 0.007*\"right\" + 0.007*\"panic\" + 0.007*\"bear\" + 0.007*\"think\" + 0.006*\"know\" + 0.006*\"run\" \n",
      "\n",
      "\n",
      "10 : 0.020*\"market\" + 0.011*\"think\" + 0.010*\"nt\" + 0.010*\"like\" + 0.008*\"cap\" + 0.008*\"people\" + 0.007*\"luna\" + 0.007*\"coins\" + 0.007*\"crypto\" + 0.006*\"buy\" \n",
      "\n",
      "\n",
      "1 : 0.017*\"crypto\" + 0.013*\"market\" + 0.011*\"nt\" + 0.010*\"bitcoin\" + 0.009*\"people\" + 0.008*\"like\" + 0.007*\"price\" + 0.007*\"money\" + 0.007*\"time\" + 0.006*\"buy\" \n",
      "\n",
      "\n",
      "14 : 0.011*\"bitcoin\" + 0.010*\"smart\" + 0.010*\"crypto\" + 0.008*\"market\" + 0.007*\"deaf\" + 0.007*\"contracts\" + 0.007*\"·\" + 0.005*\"algorand\" + 0.005*\"defi\" + 0.005*\"moonbeam\" \n",
      "\n",
      "\n",
      "23 : 0.013*\"countries\" + 0.010*\"m\" + 0.009*\"cbdc\" + 0.008*\"crypto\" + 0.007*\"digital\" + 0.006*\"prediction\" + 0.006*\"end\" + 0.006*\"98k\" + 0.006*\"income\" + 0.006*\"international\" \n",
      "\n",
      "\n",
      "25 : 0.010*\"projects\" + 0.007*\"nt\" + 0.007*\"bought\" + 0.006*\"cro\" + 0.006*\"big\" + 0.006*\"market\" + 0.006*\"buy\" + 0.005*\"people\" + 0.005*\"time\" + 0.005*\"wo\" \n",
      "\n",
      "\n",
      "21 : 0.012*\"crypto\" + 0.008*\"earn\" + 0.008*\"card\" + 0.007*\"people\" + 0.007*\"like\" + 0.007*\"good\" + 0.006*\"m\" + 0.006*\"nfts\" + 0.006*\"project\" + 0.005*\"worth\" \n",
      "\n",
      "\n",
      "30 : 0.013*\"wallets\" + 0.012*\"bitcoin\" + 0.009*\"satoshi\" + 0.007*\"wallet\" + 0.006*\"dip\" + 0.006*\"like\" + 0.006*\"2017\" + 0.006*\"bull\" + 0.006*\"people\" + 0.005*\"nt\" \n",
      "\n",
      "\n",
      "11 : 0.025*\"nt\" + 0.010*\"think\" + 0.009*\"m\" + 0.008*\"people\" + 0.006*\"crypto\" + 0.005*\"going\" + 0.005*\"like\" + 0.005*\"believe\" + 0.005*\"new\" + 0.005*\"price\" \n",
      "\n",
      "\n",
      "2 : 0.012*\"price\" + 0.008*\"analysis\" + 0.008*\"like\" + 0.006*\"network\" + 0.006*\"moving\" + 0.006*\"blockchain\" + 0.006*\"helium\" + 0.006*\"crypto\" + 0.005*\"technical\" + 0.005*\"nt\" \n",
      "\n",
      "\n",
      "17 : 0.013*\"crypto\" + 0.011*\"people\" + 0.009*\"nt\" + 0.008*\"like\" + 0.008*\"time\" + 0.007*\"dip\" + 0.007*\"buy\" + 0.007*\"market\" + 0.007*\"know\" + 0.006*\"discord\" \n",
      "\n",
      "\n"
     ]
    }
   ],
   "source": [
    "for (topic, words) in model.print_topics():\n",
    "    print(topic+1, \":\", words, '\\n\\n')"
   ]
  },
  {
   "cell_type": "code",
   "execution_count": null,
   "metadata": {
    "execution": {
     "iopub.execute_input": "2021-06-03T20:00:30.498616Z",
     "iopub.status.busy": "2021-06-03T20:00:30.498169Z",
     "iopub.status.idle": "2021-06-03T20:00:30.568091Z",
     "shell.execute_reply": "2021-06-03T20:00:30.566803Z",
     "shell.execute_reply.started": "2021-06-03T20:00:30.498567Z"
    }
   },
   "outputs": [],
   "source": [
    "original_body_list = crypto.original_body.tolist()"
   ]
  },
  {
   "cell_type": "code",
   "execution_count": null,
   "metadata": {
    "execution": {
     "iopub.execute_input": "2021-06-03T20:00:30.570106Z",
     "iopub.status.busy": "2021-06-03T20:00:30.569663Z",
     "iopub.status.idle": "2021-06-03T20:00:30.597388Z",
     "shell.execute_reply": "2021-06-03T20:00:30.596644Z",
     "shell.execute_reply.started": "2021-06-03T20:00:30.570057Z"
    }
   },
   "outputs": [
    {
     "name": "stdout",
     "output_type": "stream",
     "text": [
      "\u001b[1mText: \u001b[0m **Welcome to the Daily Discussion. Please read the disclaimer, guidelines, and rules before participating.**\n",
      " \n",
      "***\n",
      "-\n",
      "    \n",
      "###Disclaimer:\n",
      "\n",
      "Consider all information posted here with several liberal heaps of salt, and always cross check any information you may read on this thread with known sources. Any trade information posted in this open thread may be highly misleading, and could be an attempt to manipulate new readers by known \"pump and dump (PnD) groups\" for their own profit. BEWARE of such practices and exercise utmost caution before acting on any trade tip mentioned here. \n",
      "\n",
      "\n",
      "**Please be careful about what information you share and the actions you take.** Do not share the amounts of your portfolios (why not just share percentage?). Do not share your private keys or wallet seed. Use strong, non-SMS 2FA if possible. Beware of scammers and be smart. Do not invest more than you can afford to lose, and do not fall for pyramid schemes, promises of unrealistic returns (get-rich-quick schemes), and other common scams.\n",
      "    \n",
      "***\n",
      "-\n",
      "    \n",
      "###Rules:\n",
      "\n",
      "  - All [sub rules](https://www.reddit.com/r/CryptoCurrency/about/rules/) apply in this thread. The prior exemption for karma and age requirements is no longer in effect. \n",
      "  - Discussion topics must be related to cryptocurrency.\n",
      "  - Behave with civility and politeness. Do not use offensive, racist or homophobic language.\n",
      "  - Comments will be sorted by newest first.\n",
      "  \n",
      "***\n",
      "-\n",
      "\n",
      "###Useful Links:\n",
      "\n",
      "  - [**Beginner Resources**](https://www.reddit.com/r/CryptoCurrency/wiki/beginner_resources)\n",
      "\n",
      "  - [**Intro to r/Cryptocurrency MOONs 🌔**](https://www.reddit.com/r/CryptoCurrency/comments/gj96lb/introducing_rcryptocurrency_moons/)\n",
      "\n",
      "  - [**MOONs Wiki Page**](https://www.reddit.com/r/CryptoCurrency/wiki/moons_wiki/)\n",
      "\n",
      "  - [**r/CryptoCurrency Discord**](https://old.reddit.com/r/CryptoCurrency/comments/kth255/join_the_crypto_currency_discord/)\n",
      "\n",
      "  - [**r/CryptoCurrencyMemes**](https://www.reddit.com/r/cryptocurrencymemes)\n",
      "\n",
      "  - [**Prior Daily Discussions**](https://old.reddit.com/r/CryptoCurrency/search?q=title%3A\"Daily+Discussion+-+\"+&restrict_sr=on&sort=new&t=all)\n",
      "\n",
      "  - [**r/CryptoCurrencyMeta**](https://www.reddit.com/r/CryptoCurrencyMeta/) - Join in on all meta discussions regarding r/CryptoCurrency whether it be moon distributions or governance.\n",
      "\u001b[1mTopics: \u001b[0m [(2, 0.99283874)]\n",
      "\n",
      "\n",
      "\u001b[1mText: \u001b[0m Okay just did a ton of research… I have $3k to spend tomorrow and I kind of want to invest in the metaverse at a low entry that still hasn’t had a huge run up for some nice ROI (I know that means more risk…). The bullet list is what I'm thinking… what do you guys think? How would you invest it?\n",
      "\n",
      "Once most of these games release, they prob will have another run up huh? Then they will all consolidate/rise long term based on what people actually enjoy playing.\n",
      "\n",
      "I’m looking at going all in on **ROSE**. They just partnered with Facebook/Meta yesterday. It's on KuCoin.\n",
      "\n",
      "Also, even though the narrative is around metaverse, what projects are actually looking to be used in VR? I know VRChat is another popular metaverse but isn’t on the blockchain to invest in.\n",
      "\n",
      "* **MANA / DECENTRALAND** \\- The obvious leader in a decentralized metaverse, I’d say like the bitcoin equivalent.\n",
      "* **SANDBOX** \\- Prob a better play now for ROI, the ethereum equivalent. Brands buying virtual real estate here. It’s still only 2.6 billion in market cap compared to MANA’s 5 billion market cap. Lots of room to grow still yeah?\n",
      "* **OASIS/ROSE** \\- They just announced their partnership with Facebook/Meta. Their name is also the same Oasis from Ready Player One...\n",
      "* **NTVRK** \\- Just went through the dip a bit… You can buy space, land, ads, nfts, staking. Focus on virtual reality and augmented reality. They’re not just focused in the game side version of metaverse but the roadmap extends into virtual and augmented reality where the metaverse will start evolving into. MANA is only 2D.\n",
      "* **CUBE** \\- Metaverse that actually has VR capabilities.\n",
      "* **WILDER WORLD** \\- Graphics look dope. The price does seem extremely volatile. Not yet released.\n",
      "* **STAR ATLAS** \\- High budget looking space exploration game. Not yet released. Built on Solana… could have a nice run up.\n",
      "* **GALA** \\- They create blockchain games. Still only 7 cents. Price is moving slow.\n",
      "* **ILLUVIUM** \\- Built on the ethereum blockchain. Turned based game. Not yet released.\n",
      "* **MVI** \\- A metaverse index with a bunch of metaverse based projects. Seems like the safest investment. Slow and steady.\n",
      "* **RNDR** \\- Graphics engine built for the metaverse.\n",
      "* **BLOK** \\- Cyberpunk skyscraper. Still not released. Graphics look a bit meh… It’s highest was 16 cents and been on a downtrend since then.\n",
      "* **REDFOX** \\- Just went through a big dip so it has a good entry price right now. Possible potential for gains.\n",
      "* **ENJ** \\- Could be the safest long term play. Might not have the momentum for gains anymore though. Fundamentally it’ll be useful for centralized and decentralized games to create NFTS. Less niche and more longer play.\n",
      "* **SHIRYO INU** \\- Fantasy NFT trading card game. Super early entry. Fractions of a cent.\n",
      "* **MERIT CIRCLE** \\- Partnering with Illuvium, Star Atlas, and Axie Infinity. Seems like it could be vital for gaming and play to earn.\n",
      "* **UFO** \\- Fractions of a cent.. not yet super accessible to buy. Community owned.\n",
      "* **VRA** \\- Currently 7 cents, could hit 25 cents?\n",
      "* **OVR** \\- Mapping the real world virtually that you can scan the world with your phone.\n",
      "* **METAHERO** \\- Trending on Tiktok. Another thing that scans real world objects.\n",
      "* **KALAO** \\- Avalanches metaverse.\n",
      "\n",
      "Where do you guys think the metaverse narrative is going? I think there will be that high budget metaverse that Meta/Facebook is creating, but there might be a group of people that would prefer a decentrilized/community made version of that like Decentraland (MANA) and The Sandbox (SAND).I think some people will think this metaverse is something you need to live in from an outside perspective but in reality it really isn't. Personally VR for me has been about games; where if something dope comes out, I'll play that game till it's done like if I were playing it on a flat screen and then I'm done. Entertainment for the moment rather than living for it.\n",
      "\n",
      "Isn't metaverse just basically what VRChat is? I think the metaverse will basically make Facebook more \"present\" than posting a status which is \"passive\". But beyond that stage, what if the metaverse evolves into something that is functional and day to day where it dissolves into the background of your daily routine through augmented reality? Once it gets to a point where you can wear Ray Bans and people don't know you're connected to the augmented reality metaverse seems like the next level.\n",
      "\n",
      "Going about your day you usually do but with a holographic layer so the real world integrates with the metaverse with the internet of things. What if it gets to a point where you can close your glasses for full immersion (VR) and then open your glasses for AR?\n",
      "\u001b[1mTopics: \u001b[0m [(4, 0.9282579)]\n",
      "\n",
      "\n",
      "\u001b[1mText: \u001b[0m Sam Bankman-Fried who is the CEO of Alameda Research has chosen to cut out banks and borrow up to $1bn of new money for expansion straight from DeFi.\n",
      "\n",
      "The loan will be taken in stablecoins from a DeFi platform called Maple Finance.\n",
      "\n",
      "It's a huge deal because it's the first time where such a high profile company cuts out banks and other intermediaries from arranging the new financing and goes to DeFi instead.\n",
      "\n",
      "That's how banks make their money, so imagine when many other big companies start doing this. It will be a huge test for DeFi, but I think it's very exciting.\n",
      "\n",
      "[Source](https://www.ft.com/content/308a473c-47be-4175-a0c3-b1661bf94ebc)\n",
      "\u001b[1mTopics: \u001b[0m [(24, 0.981406)]\n",
      "\n",
      "\n",
      "\u001b[1mText: \u001b[0m My friend lost $2K in the whole squid game token fiasco and later was playing the victim card stating *\"I was sold by the main stream media and its their fault\".*\n",
      "\n",
      "Ironically he is pissed at me for blaming him for his misfortune.\n",
      "\n",
      "Another friend put on a long position (x10) with his entire savings of $2400 when bitcoin was at $65k as he said majority of the YouTubers were stating BTC would touch a new high of at least $75k. He was dumb enough to not put a stop loss as he thought \"setting up a losing trade is part of a looser mindset\" *(still can't get over how ironic it sounds now)*.\n",
      "\n",
      "His position has liquidated, and now he thinks Crypto is all gambling.\n",
      "\n",
      "I haven't made big in crypto either, I started off in august, went up to 2.2x my original investment and now I am back to a comfortable 1.7x  (which is more than what I ever expected). I am still leaning with every trade, I make my decisions based on evidence not emotions, losing is part of the learning process and it teaches you more than a winning trade.\n",
      "\n",
      "&#x200B;\n",
      "\n",
      "If you blindly follow the big names in IG, YT and twitter, you're setting yourself to fail. If you do not play wisely, the game is setup to screw over sheep retail investors. You have to take words of influencers with some subjectivity. I know it sounds obvious but people do not follow it at al. The funny part is that by playing the victim card they aren't even using the loss to learn a lesson.  \n",
      "\n",
      "\n",
      "Edit 1: We are still friends and they are just doing fine too, but not recognizing your own fault is further paving way for not taking accountability. If I agree with them then it wouldn't be very sincere from my end. \n",
      "\u001b[1mTopics: \u001b[0m [(24, 0.99256235)]\n",
      "\n",
      "\n",
      "\u001b[1mText: \u001b[0m Everyone says they’re “late” and beg for a dip, well now is your chance to get what you asked for and Dollar Cost Average.\n",
      "\n",
      "I’ve seen so many people wishing for dips but when the dip actually comes they get scared and don’t buy because of it. Then later they FOMO in again at a higher price. This is just human nature but with some discipline you can change that.\n",
      "\n",
      "Each dip is an opportunity and opportunities are meant to be seized.\n",
      "\n",
      "Enjoy the Black Friday discounts and happy dollar cost averaging to everyone!\n",
      "\u001b[1mTopics: \u001b[0m [(22, 0.9758292)]\n",
      "\n",
      "\n",
      "\u001b[1mText: \u001b[0m Let's be real. **Craig Wright is not Satoshi** any person of prominence in the blockchain space would not only say the same, but Vitalik has even said it to his face. \n",
      "\n",
      "Craig Wright is a fraud. A sensationalist, narcissistic, self serving fraud who could put a finger up his own ass when given a map. If Craig Wright is Satoshi, I'm Jesus Christ. That's how ridiculous that comparison is. \n",
      "\n",
      "The second person to ever run a Bitcoin node INSISTS he is not Satoshi. If he WAS in fact Satoshi, he could move some BTC from the Genesis block and silence the speculation right? Oh right. He's never done that. \n",
      "\n",
      "BSV is a joke. Mainly because Satoshi's vision for Bitcoin didn't include a shitcoin hocking hack who lacks foundational knowledge of the project he claims to have created claiming credit over half a decade later. \n",
      "\n",
      "Satoshi wouldn't sue people for daring to say that he isn't who he says he is. \n",
      "\n",
      "Satoshi's wallet(s) have long been inactive, strongly suggesting he is in fact no longer alive. It would be easy to prove that one was Satoshi, what Craig did you lose your keys? \n",
      "\n",
      "The genius of Satoshi is being unknown, and why would he then out himself to the world 7 years later? And why the fuck would that person be Craig Wright, serial attention seeking and known fraud? You tell me. These dumb ass articles referring to him AS Satoshi are ridiculous, nonsensical, and downright wrong; he's Satoshi like dog shit is to dessert. \n",
      "\n",
      "Tldr; Hal Finney is Satoshi.\n",
      "\u001b[1mTopics: \u001b[0m [(15, 0.9926756)]\n",
      "\n",
      "\n",
      "\u001b[1mText: \u001b[0m It happened to me last dip. I panic sold BTC at 30k, why? Because the Technical gurus of multiple subs were predicting a 20k floor. I fucked up and took the wild astrological guess of these astrologers and sold all my stash, hoping to buy back at 20k. And we all know what happened afterwards. Well, first of all, repeat after me:\n",
      "\n",
      "# Nobody knows sh*t about f**k!\n",
      "\n",
      "\n",
      "Ok, feels much better now. So what's your panic sell story? How much convinced you were when you panic sold? Was it worth it? Or you fell for a astrologer too? \n",
      "\n",
      "I hope we could give some of our experiences to the newbies and help each other cope with the dip. One thing that is certain in crypto space is that blue chips always goes back up. Other than that Holding is not a bad idea if you invest in a solid project and are in it for long term. Many projects has shown astronomical returns after a crash or dip. Just remember that time in market beats timing the market. DCA, HODL and stake. Its not a get rich quick scheme, patience will pay in long term. You'll get there eventually.\n",
      "\n",
      "# Don't panic, and think rationally!\n",
      "\u001b[1mTopics: \u001b[0m [(9, 0.7274578), (26, 0.26239416)]\n",
      "\n",
      "\n",
      "\u001b[1mText: \u001b[0m When I was new to crypto I was deciding which exchange to use and had decided on crypto.com. At the time crypto.com and their CRO coin had a bit of a bad reputation but I did my own research and determined that the things people were concerned about were growing pains and that an exchange with the domain crypto.com had a very bright future.\n",
      "\n",
      "After getting my account approved I posted here asking for advice on if I should invest a substantial amount in CRO since I believed crypto.com was destined to become a major player like binance and that inevitably the CRO price would go up.\n",
      "\n",
      "My post was met with lots of fud and responses from people who had likely been burned or knew nothing about crypto.com and CRO. I should have gone with my gut and my own research however I was brand new to crypto and didn't trust myself.\n",
      "\n",
      "At this time CRO was about $0.06. Now CRO is $0.50+ and crypto.com has bought the naming rights to the arena where the Lakers play.\n",
      "\n",
      "Moral of the story is 90% of what's posted here is garbage that won't help you make good investing decisions. Go with your gut.\n",
      "\n",
      "EDIT: Wow. I knew this sub had some bad advice but I didn't realize how incredibly toxic it had become as well. Everyone was new at some point. There are tons of new people coming here everyday to try and learn more about crypto.\n",
      "\u001b[1mTopics: \u001b[0m [(2, 0.87975127)]\n",
      "\n",
      "\n",
      "\u001b[1mText: \u001b[0m \n",
      "\u001b[1mTopics: \u001b[0m []\n",
      "\n",
      "\n"
     ]
    }
   ],
   "source": [
    "for (text, doc) in zip(original_body_list[:9], docs[:9]):\n",
    "    print('\\033[1m' + 'Text: ' + '\\033[0m', text)\n",
    "    print('\\033[1m' + 'Topics: ' + '\\033[0m', [(topic+1, prob) for (topic, prob) in model[dic.doc2bow(doc)] if prob > 0.15])\n",
    "    print('\\n')"
   ]
  },
  {
   "cell_type": "markdown",
   "metadata": {},
   "source": [
    "Now let's see what topic is going to assign to the post-**2179**, previously tested with the svd decomposition for the unigram term-document matrix."
   ]
  },
  {
   "cell_type": "code",
   "execution_count": 45,
   "metadata": {},
   "outputs": [
    {
     "data": {
      "text/plain": [
       "[(20, 0.9859879)]"
      ]
     },
     "execution_count": 45,
     "metadata": {},
     "output_type": "execute_result"
    }
   ],
   "source": [
    "model[dic.doc2bow(docs[])]"
   ]
  },
  {
   "cell_type": "code",
   "execution_count": null,
   "metadata": {
    "execution": {
     "iopub.execute_input": "2021-06-03T20:00:30.598533Z",
     "iopub.status.busy": "2021-06-03T20:00:30.598267Z",
     "iopub.status.idle": "2021-06-03T20:00:30.606265Z",
     "shell.execute_reply": "2021-06-03T20:00:30.604992Z",
     "shell.execute_reply.started": "2021-06-03T20:00:30.598506Z"
    }
   },
   "outputs": [
    {
     "name": "stdout",
     "output_type": "stream",
     "text": [
      "\u001b[1mText: \u001b[0m About a month ago Turkeys president has declared a \"War on Crypto\" following young turkish people using Crypto to escape the extreme inflation.\n",
      "\n",
      "You may ask how this war on crypto is going?\n",
      "\n",
      "Turkeys currency has just hit an inflation of 20%, with no end in sight.\n",
      "\n",
      "\n",
      "Following his statement, even more turkish people are now using Crypto to escape the inflation, seems like the war is going in reverse for him.\n",
      "\n",
      "[(source on inflation)](https://www.tagesschau.de/wirtschaft/weltwirtschaft/erdogan-lira-tuerkei-101.html)\n",
      "\u001b[1mTopic: \u001b[0m [(2, 0.9758294)]\n"
     ]
    }
   ],
   "source": [
    "print('\\033[1m' + 'Text: ' + '\\033[0m', original_body_list[20])\n",
    "print('\\033[1m' + 'Topic: ' + '\\033[0m', [(topic+1, prob) for (topic, prob) in model[dic.doc2bow(docs[20])] if prob > 0.1])"
   ]
  },
  {
   "cell_type": "markdown",
   "metadata": {},
   "source": [
    "the topics assigned by the LDA are not 100% spot-on, **topic 5** seems to be appropriate but **topic 9** seems to be out of place.\n",
    "\n",
    "Let's see what kind of topic the LDA is going to choose for the post **280** tested with the bigram matrix decomposition."
   ]
  },
  {
   "cell_type": "code",
   "execution_count": null,
   "metadata": {
    "execution": {
     "iopub.execute_input": "2021-06-03T20:42:52.496169Z",
     "iopub.status.busy": "2021-06-03T20:42:52.495803Z",
     "iopub.status.idle": "2021-06-03T20:42:52.505587Z",
     "shell.execute_reply": "2021-06-03T20:42:52.504472Z",
     "shell.execute_reply.started": "2021-06-03T20:42:52.496137Z"
    }
   },
   "outputs": [
    {
     "name": "stdout",
     "output_type": "stream",
     "text": [
      "\u001b[1mText: \u001b[0m My DCA day (pay day) is still half a month away and greed literally burns me from the inside because I think I can miss this dip.\n",
      "\n",
      "I always try to catch the moment and buy at the lowest possible price, and it's a damn shame to watch such a great opportunity to load my bags (before price skyrocket) pass me by.\n",
      "\n",
      "How do you guys deal with the feeling of lost profits at such moments? I understand that I have no choice but to just relax and continue watching the charts, but it's kinda difficult\n",
      "\n",
      "p.s. looks like my love for crypto is becoming an addiction lol\n",
      "\u001b[1mTopic: \u001b[0m [(4, 0.9817565)]\n"
     ]
    }
   ],
   "source": [
    "print('\\033[1m' + 'Text: ' + '\\033[0m', original_body_list[30])\n",
    "print('\\033[1m' + 'Topic: ' + '\\033[0m',[(topic+1, prob) for (topic, prob) in model[dic.doc2bow(docs[30])] if prob > 0.1])"
   ]
  },
  {
   "cell_type": "code",
   "execution_count": null,
   "metadata": {},
   "outputs": [],
   "source": [
    "from textblob import TextBlob\n",
    "# create a function to get subjectivity\n",
    "def getSubjectivity(twt):\n",
    "    return TextBlob(twt).sentiment.subjectivity\n",
    "\n",
    "# create a function to get the polarity\n",
    "def getPolarity(twt):\n",
    "    return TextBlob(twt).sentiment.polarity\n",
    "\n",
    "# create two new columns called \"Subjectivity\" & \"Polarity\"\n",
    "crypto['subjectivity'] = crypto['original_body'].apply(getSubjectivity)\n",
    "crypto['polarity'] = crypto['original_body'].apply(getPolarity)"
   ]
  },
  {
   "cell_type": "code",
   "execution_count": null,
   "metadata": {},
   "outputs": [],
   "source": [
    "# create a function get the sentiment text\n",
    "def getSentiment(score):\n",
    "    if score < 0:\n",
    "        return \"negative\"\n",
    "    elif score == 0:\n",
    "        return \"neutral\"\n",
    "    else:\n",
    "        return \"positive\""
   ]
  },
  {
   "cell_type": "code",
   "execution_count": null,
   "metadata": {},
   "outputs": [
    {
     "data": {
      "text/html": [
       "<div>\n",
       "<style scoped>\n",
       "    .dataframe tbody tr th:only-of-type {\n",
       "        vertical-align: middle;\n",
       "    }\n",
       "\n",
       "    .dataframe tbody tr th {\n",
       "        vertical-align: top;\n",
       "    }\n",
       "\n",
       "    .dataframe thead th {\n",
       "        text-align: right;\n",
       "    }\n",
       "</style>\n",
       "<table border=\"1\" class=\"dataframe\">\n",
       "  <thead>\n",
       "    <tr style=\"text-align: right;\">\n",
       "      <th></th>\n",
       "      <th>title</th>\n",
       "      <th>score</th>\n",
       "      <th>id</th>\n",
       "      <th>subreddit</th>\n",
       "      <th>url</th>\n",
       "      <th>num_comments</th>\n",
       "      <th>body</th>\n",
       "      <th>created</th>\n",
       "      <th>original_body</th>\n",
       "      <th>subjectivity</th>\n",
       "      <th>polarity</th>\n",
       "      <th>sentiment</th>\n",
       "    </tr>\n",
       "  </thead>\n",
       "  <tbody>\n",
       "    <tr>\n",
       "      <th>0</th>\n",
       "      <td>Daily Discussion - November 19, 2021 (GMT+0)</td>\n",
       "      <td>186</td>\n",
       "      <td>qx37qc</td>\n",
       "      <td>CryptoCurrency</td>\n",
       "      <td>https://www.reddit.com/r/CryptoCurrency/commen...</td>\n",
       "      <td>8124</td>\n",
       "      <td>welcome daily discussion read disclaimer guide...</td>\n",
       "      <td>1.637280e+09</td>\n",
       "      <td>**Welcome to the Daily Discussion. Please read...</td>\n",
       "      <td>0.430163</td>\n",
       "      <td>0.094759</td>\n",
       "      <td>positive</td>\n",
       "    </tr>\n",
       "    <tr>\n",
       "      <th>1</th>\n",
       "      <td>What's the next metaverse play with high ROI l...</td>\n",
       "      <td>871</td>\n",
       "      <td>qx73x6</td>\n",
       "      <td>CryptoCurrency</td>\n",
       "      <td>https://www.reddit.com/r/CryptoCurrency/commen...</td>\n",
       "      <td>567</td>\n",
       "      <td>okay ton research … 3k spend tomorrow kind wan...</td>\n",
       "      <td>1.637292e+09</td>\n",
       "      <td>Okay just did a ton of research… I have $3k to...</td>\n",
       "      <td>0.476463</td>\n",
       "      <td>0.129577</td>\n",
       "      <td>positive</td>\n",
       "    </tr>\n",
       "    <tr>\n",
       "      <th>2</th>\n",
       "      <td>ADOPTION: The richest person in crypto chooses...</td>\n",
       "      <td>281</td>\n",
       "      <td>qxbosh</td>\n",
       "      <td>CryptoCurrency</td>\n",
       "      <td>https://www.reddit.com/r/CryptoCurrency/commen...</td>\n",
       "      <td>171</td>\n",
       "      <td>sam bankmanfried ceo alameda research chosen c...</td>\n",
       "      <td>1.637310e+09</td>\n",
       "      <td>Sam Bankman-Fried who is the CEO of Alameda Re...</td>\n",
       "      <td>0.525571</td>\n",
       "      <td>0.178671</td>\n",
       "      <td>positive</td>\n",
       "    </tr>\n",
       "    <tr>\n",
       "      <th>3</th>\n",
       "      <td>I absolutely do not sympathize with people who...</td>\n",
       "      <td>140</td>\n",
       "      <td>qxepgd</td>\n",
       "      <td>CryptoCurrency</td>\n",
       "      <td>https://www.reddit.com/r/CryptoCurrency/commen...</td>\n",
       "      <td>133</td>\n",
       "      <td>friend lost 2 k squid game token fiasco later ...</td>\n",
       "      <td>1.637323e+09</td>\n",
       "      <td>My friend lost $2K in the whole squid game tok...</td>\n",
       "      <td>0.480895</td>\n",
       "      <td>0.090294</td>\n",
       "      <td>positive</td>\n",
       "    </tr>\n",
       "    <tr>\n",
       "      <th>4</th>\n",
       "      <td>Now is your chance to actually buy the dip</td>\n",
       "      <td>3174</td>\n",
       "      <td>qwxint</td>\n",
       "      <td>CryptoCurrency</td>\n",
       "      <td>https://www.reddit.com/r/CryptoCurrency/commen...</td>\n",
       "      <td>1148</td>\n",
       "      <td>says late beg dip chance asked dollar cost ave...</td>\n",
       "      <td>1.637264e+09</td>\n",
       "      <td>Everyone says they’re “late” and beg for a dip...</td>\n",
       "      <td>0.413333</td>\n",
       "      <td>0.153333</td>\n",
       "      <td>positive</td>\n",
       "    </tr>\n",
       "    <tr>\n",
       "      <th>...</th>\n",
       "      <td>...</td>\n",
       "      <td>...</td>\n",
       "      <td>...</td>\n",
       "      <td>...</td>\n",
       "      <td>...</td>\n",
       "      <td>...</td>\n",
       "      <td>...</td>\n",
       "      <td>...</td>\n",
       "      <td>...</td>\n",
       "      <td>...</td>\n",
       "      <td>...</td>\n",
       "      <td>...</td>\n",
       "    </tr>\n",
       "    <tr>\n",
       "      <th>655</th>\n",
       "      <td>Is current state of crypto currency a prelude ...</td>\n",
       "      <td>7</td>\n",
       "      <td>qwp793</td>\n",
       "      <td>CryptoCurrency</td>\n",
       "      <td>https://www.reddit.com/r/CryptoCurrency/commen...</td>\n",
       "      <td>17</td>\n",
       "      <td>crypto saga began saw effects unbridled greed ...</td>\n",
       "      <td>1.637240e+09</td>\n",
       "      <td>The crypto saga began after we saw the effects...</td>\n",
       "      <td>0.414867</td>\n",
       "      <td>0.123556</td>\n",
       "      <td>positive</td>\n",
       "    </tr>\n",
       "    <tr>\n",
       "      <th>656</th>\n",
       "      <td>IOTEX 2.0: The Rise of MachineFi</td>\n",
       "      <td>12</td>\n",
       "      <td>qwmxnz</td>\n",
       "      <td>CryptoCurrency</td>\n",
       "      <td>https://www.reddit.com/r/CryptoCurrency/commen...</td>\n",
       "      <td>13</td>\n",
       "      <td>iotex actually night announced machinefi follo...</td>\n",
       "      <td>1.637231e+09</td>\n",
       "      <td>IOTEX have just (actually, last night) announc...</td>\n",
       "      <td>0.610309</td>\n",
       "      <td>0.130712</td>\n",
       "      <td>positive</td>\n",
       "    </tr>\n",
       "    <tr>\n",
       "      <th>657</th>\n",
       "      <td>This is why $AVAX is killing the Market right ...</td>\n",
       "      <td>4</td>\n",
       "      <td>qwrbry</td>\n",
       "      <td>CryptoCurrency</td>\n",
       "      <td>/r/Avax/comments/qw5ce1/this_is_why_avax_is_ki...</td>\n",
       "      <td>1</td>\n",
       "      <td></td>\n",
       "      <td>1.637247e+09</td>\n",
       "      <td></td>\n",
       "      <td>0.000000</td>\n",
       "      <td>0.000000</td>\n",
       "      <td>neutral</td>\n",
       "    </tr>\n",
       "    <tr>\n",
       "      <th>658</th>\n",
       "      <td>How can I/we help you? Vol. 2</td>\n",
       "      <td>2</td>\n",
       "      <td>qwxvgp</td>\n",
       "      <td>CryptoCurrency</td>\n",
       "      <td>https://www.reddit.com/r/CryptoCurrency/commen...</td>\n",
       "      <td>21</td>\n",
       "      <td>previous post similar nature got attention lot...</td>\n",
       "      <td>1.637265e+09</td>\n",
       "      <td>My [previous](https://old.reddit.com/r/CryptoC...</td>\n",
       "      <td>0.480208</td>\n",
       "      <td>-0.005208</td>\n",
       "      <td>negative</td>\n",
       "    </tr>\n",
       "    <tr>\n",
       "      <th>659</th>\n",
       "      <td>Uppsala Security assists another victim of cry...</td>\n",
       "      <td>2</td>\n",
       "      <td>qwxv2y</td>\n",
       "      <td>CryptoCurrency</td>\n",
       "      <td>https://www.cryptoninjas.net/2021/11/18/uppsal...</td>\n",
       "      <td>3</td>\n",
       "      <td></td>\n",
       "      <td>1.637265e+09</td>\n",
       "      <td></td>\n",
       "      <td>0.000000</td>\n",
       "      <td>0.000000</td>\n",
       "      <td>neutral</td>\n",
       "    </tr>\n",
       "  </tbody>\n",
       "</table>\n",
       "<p>660 rows × 12 columns</p>\n",
       "</div>"
      ],
      "text/plain": [
       "                                                 title  score      id  \\\n",
       "0         Daily Discussion - November 19, 2021 (GMT+0)    186  qx37qc   \n",
       "1    What's the next metaverse play with high ROI l...    871  qx73x6   \n",
       "2    ADOPTION: The richest person in crypto chooses...    281  qxbosh   \n",
       "3    I absolutely do not sympathize with people who...    140  qxepgd   \n",
       "4           Now is your chance to actually buy the dip   3174  qwxint   \n",
       "..                                                 ...    ...     ...   \n",
       "655  Is current state of crypto currency a prelude ...      7  qwp793   \n",
       "656                   IOTEX 2.0: The Rise of MachineFi     12  qwmxnz   \n",
       "657  This is why $AVAX is killing the Market right ...      4  qwrbry   \n",
       "658                      How can I/we help you? Vol. 2      2  qwxvgp   \n",
       "659  Uppsala Security assists another victim of cry...      2  qwxv2y   \n",
       "\n",
       "          subreddit                                                url  \\\n",
       "0    CryptoCurrency  https://www.reddit.com/r/CryptoCurrency/commen...   \n",
       "1    CryptoCurrency  https://www.reddit.com/r/CryptoCurrency/commen...   \n",
       "2    CryptoCurrency  https://www.reddit.com/r/CryptoCurrency/commen...   \n",
       "3    CryptoCurrency  https://www.reddit.com/r/CryptoCurrency/commen...   \n",
       "4    CryptoCurrency  https://www.reddit.com/r/CryptoCurrency/commen...   \n",
       "..              ...                                                ...   \n",
       "655  CryptoCurrency  https://www.reddit.com/r/CryptoCurrency/commen...   \n",
       "656  CryptoCurrency  https://www.reddit.com/r/CryptoCurrency/commen...   \n",
       "657  CryptoCurrency  /r/Avax/comments/qw5ce1/this_is_why_avax_is_ki...   \n",
       "658  CryptoCurrency  https://www.reddit.com/r/CryptoCurrency/commen...   \n",
       "659  CryptoCurrency  https://www.cryptoninjas.net/2021/11/18/uppsal...   \n",
       "\n",
       "     num_comments                                               body  \\\n",
       "0            8124  welcome daily discussion read disclaimer guide...   \n",
       "1             567  okay ton research … 3k spend tomorrow kind wan...   \n",
       "2             171  sam bankmanfried ceo alameda research chosen c...   \n",
       "3             133  friend lost 2 k squid game token fiasco later ...   \n",
       "4            1148  says late beg dip chance asked dollar cost ave...   \n",
       "..            ...                                                ...   \n",
       "655            17  crypto saga began saw effects unbridled greed ...   \n",
       "656            13  iotex actually night announced machinefi follo...   \n",
       "657             1                                                      \n",
       "658            21  previous post similar nature got attention lot...   \n",
       "659             3                                                      \n",
       "\n",
       "          created                                      original_body  \\\n",
       "0    1.637280e+09  **Welcome to the Daily Discussion. Please read...   \n",
       "1    1.637292e+09  Okay just did a ton of research… I have $3k to...   \n",
       "2    1.637310e+09  Sam Bankman-Fried who is the CEO of Alameda Re...   \n",
       "3    1.637323e+09  My friend lost $2K in the whole squid game tok...   \n",
       "4    1.637264e+09  Everyone says they’re “late” and beg for a dip...   \n",
       "..            ...                                                ...   \n",
       "655  1.637240e+09  The crypto saga began after we saw the effects...   \n",
       "656  1.637231e+09  IOTEX have just (actually, last night) announc...   \n",
       "657  1.637247e+09                                                      \n",
       "658  1.637265e+09  My [previous](https://old.reddit.com/r/CryptoC...   \n",
       "659  1.637265e+09                                                      \n",
       "\n",
       "     subjectivity  polarity sentiment  \n",
       "0        0.430163  0.094759  positive  \n",
       "1        0.476463  0.129577  positive  \n",
       "2        0.525571  0.178671  positive  \n",
       "3        0.480895  0.090294  positive  \n",
       "4        0.413333  0.153333  positive  \n",
       "..            ...       ...       ...  \n",
       "655      0.414867  0.123556  positive  \n",
       "656      0.610309  0.130712  positive  \n",
       "657      0.000000  0.000000   neutral  \n",
       "658      0.480208 -0.005208  negative  \n",
       "659      0.000000  0.000000   neutral  \n",
       "\n",
       "[660 rows x 12 columns]"
      ]
     },
     "metadata": {},
     "output_type": "display_data"
    }
   ],
   "source": [
    "# create a column to store the text sentiment\n",
    "crypto['sentiment'] = crypto['polarity'].apply(getSentiment)\n",
    "\n"
   ]
  },
  {
   "cell_type": "code",
   "execution_count": null,
   "metadata": {},
   "outputs": [],
   "source": [
    "if __name__ == ‘__main__‘:\n",
    "    main()\n",
    "    import warnings\n",
    "    warnings.filterwarnings(‘ignore’)"
   ]
  }
 ],
 "metadata": {
  "interpreter": {
   "hash": "40d3a090f54c6569ab1632332b64b2c03c39dcf918b08424e98f38b5ae0af88f"
  },
  "kernelspec": {
   "display_name": "Python 3.8.8 64-bit ('base': conda)",
   "name": "python3"
  },
  "language_info": {
   "codemirror_mode": {
    "name": "ipython",
    "version": 3
   },
   "file_extension": ".py",
   "mimetype": "text/x-python",
   "name": "python",
   "nbconvert_exporter": "python",
   "pygments_lexer": "ipython3",
   "version": "3.8.8"
  },
  "toc": {
   "base_numbering": 1,
   "nav_menu": {},
   "number_sections": true,
   "sideBar": true,
   "skip_h1_title": false,
   "title_cell": "Table of Contents",
   "title_sidebar": "Contents",
   "toc_cell": false,
   "toc_position": {},
   "toc_section_display": true,
   "toc_window_display": false
  }
 },
 "nbformat": 4,
 "nbformat_minor": 4
}
