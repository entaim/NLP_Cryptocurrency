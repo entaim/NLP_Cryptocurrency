{
 "cells": [
  {
   "cell_type": "code",
   "execution_count": 158,
   "metadata": {
    "_cell_guid": "b1076dfc-b9ad-4769-8c92-a6c4dae69d19",
    "_uuid": "8f2839f25d086af736a60e9eeb907d3b93b6e0e5",
    "execution": {
     "iopub.execute_input": "2021-06-03T19:48:45.376899Z",
     "iopub.status.busy": "2021-06-03T19:48:45.376476Z",
     "iopub.status.idle": "2021-06-03T19:48:46.885271Z",
     "shell.execute_reply": "2021-06-03T19:48:46.884293Z",
     "shell.execute_reply.started": "2021-06-03T19:48:45.376809Z"
    }
   },
   "outputs": [],
   "source": [
    "import string\n",
    "\n",
    "import numpy as np\n",
    "import pandas as pd\n",
    "import matplotlib.pyplot as plt\n",
    "import seaborn as sns\n",
    "import spacy \n",
    "import praw\n",
    "import streamlit as st\n",
    "\n",
    "\n",
    "%matplotlib inline"
   ]
  },
  {
   "cell_type": "code",
   "execution_count": 44,
   "metadata": {
    "execution": {
     "iopub.execute_input": "2021-06-03T19:48:46.889201Z",
     "iopub.status.busy": "2021-06-03T19:48:46.888898Z",
     "iopub.status.idle": "2021-06-03T19:48:47.993451Z",
     "shell.execute_reply": "2021-06-03T19:48:47.992519Z",
     "shell.execute_reply.started": "2021-06-03T19:48:46.889159Z"
    }
   },
   "outputs": [],
   "source": [
    "\n",
    "reddit = praw.Reddit(client_id='qQBQxY9R1zGrYJH9pACBOw', client_secret='MjrjCout_Omkh_3feZFq3UrzyLBicw', user_agent='Crypto')\n"
   ]
  },
  {
   "cell_type": "code",
   "execution_count": 45,
   "metadata": {},
   "outputs": [],
   "source": [
    "st.title('Crypto Trader Assistant')\n",
    "st.text('This tool gives traders and investors a sentiment about the cryptocurrency from r/Cryptocurrency.')\n",
    "\n",
    "ucurr = st.text_input('Enter a word related to the Cryptocurrency world:', 'e.g. btc')\n",
    "st.balloons()\n"
   ]
  },
  {
   "cell_type": "code",
   "execution_count": 47,
   "metadata": {},
   "outputs": [],
   "source": [
    "crypto = []\n",
    "ml_subreddit = reddit.subreddit('Cryptocurrency')\n",
    "for post in ml_subreddit.hot(limit=30000):\n",
    "    crypto.append([post.title, post.score, post.id, post.subreddit, post.url, post.num_comments, post.selftext, post.created])\n",
    "crypto = pd.DataFrame(crypto,columns=['title', 'score', 'id', 'subreddit', 'url', 'num_comments', 'body', 'created'])"
   ]
  },
  {
   "cell_type": "code",
   "execution_count": 48,
   "metadata": {
    "execution": {
     "iopub.execute_input": "2021-06-03T19:48:47.995967Z",
     "iopub.status.busy": "2021-06-03T19:48:47.995413Z",
     "iopub.status.idle": "2021-06-03T19:48:48.037504Z",
     "shell.execute_reply": "2021-06-03T19:48:48.036596Z",
     "shell.execute_reply.started": "2021-06-03T19:48:47.995923Z"
    }
   },
   "outputs": [],
   "source": [
    "crypto.dropna(subset=['body'], inplace=True)"
   ]
  },
  {
   "cell_type": "code",
   "execution_count": 49,
   "metadata": {
    "execution": {
     "iopub.execute_input": "2021-06-03T19:48:48.040034Z",
     "iopub.status.busy": "2021-06-03T19:48:48.039460Z",
     "iopub.status.idle": "2021-06-03T19:48:48.046666Z",
     "shell.execute_reply": "2021-06-03T19:48:48.045479Z",
     "shell.execute_reply.started": "2021-06-03T19:48:48.039986Z"
    }
   },
   "outputs": [],
   "source": [
    "crypto['original_body'] = crypto['body']"
   ]
  },
  {
   "cell_type": "code",
   "execution_count": 50,
   "metadata": {},
   "outputs": [],
   "source": [
    "import spacy\n",
    "nlp = spacy.blank('en')\n",
    "\n",
    "\n",
    "def remove_urls(text):\n",
    "    url_pattern = re.compile(r'https?://\\S+|www\\.\\S+')\n",
    "    return url_pattern.sub(r'', text)\n",
    "\n",
    "def remove_punctuation(text):\n",
    "    return text.translate(str.maketrans('', '', string.punctuation))\n",
    "\n",
    "def remove_stop_words(text):\n",
    "    doc = nlp(text)\n",
    "    nlp.Defaults.stop_words |= {'nt','crypto', 'cryptocurrency', ' nt', 'nt '}\n",
    "    return \" \".join([token.text for token in doc if not token.is_stop])\n",
    "\n",
    "def lemmatize_words(text):\n",
    "    doc = nlp(text)\n",
    "    return \" \".join([token.lemma_ for token in doc])\n",
    "\n",
    "remove_spaces = lambda x : re.sub('\\\\s+', ' ', x)\n",
    "\n",
    "# Reference : https://gist.github.com/slowkow/7a7f61f495e3dbb7e3d767f97bd7304b\n",
    "def remove_emoji(string):\n",
    "    emoji_pattern = re.compile(\"[\"\n",
    "                               u\"\\U0001F600-\\U0001F64F\"  # emoticons\n",
    "                               u\"\\U0001F300-\\U0001F5FF\"  # symbols & pictographs\n",
    "                               u\"\\U0001F680-\\U0001F6FF\"  # transport & map symbols\n",
    "                               u\"\\U0001F1E0-\\U0001F1FF\"  # flags (iOS)\n",
    "                               u\"\\U00002500-\\U00002BEF\"  # chinese char\n",
    "                               u\"\\U00002702-\\U000027B0\"\n",
    "                               u\"\\U00002702-\\U000027B0\"\n",
    "                               u\"\\U000024C2-\\U0001F251\"\n",
    "                               u\"\\U0001f926-\\U0001f937\"\n",
    "                               u\"\\U00010000-\\U0010ffff\"\n",
    "                               u\"\\u2640-\\u2642\"\n",
    "                               u\"\\u2600-\\u2B55\"\n",
    "                               u\"\\u200d\"\n",
    "                               u\"\\u23cf\"\n",
    "                               u\"\\u23e9\"\n",
    "                               u\"\\u231a\"\n",
    "                               u\"\\ufe0f\"  # dingbats\n",
    "                               u\"\\u3030\"\n",
    "                               \"]+\", flags=re.UNICODE)\n",
    "    return emoji_pattern.sub(r'', string)\n",
    "\n",
    "remove_double_quotes = lambda x : x.replace('\"', '')\n",
    "remove_single_quotes = lambda x : x.replace('\\'', '')\n",
    "trim = lambda x : x.strip()\n",
    "\n",
    "other_chars = ['*', '#', '&x200B', '[', ']', '; ',' ;' \"&nbsp\", \"“\",\"“\",\"”\", \"x200b\"]\n",
    "\n",
    "\n",
    "def remove_other_chars(x: str):\n",
    "    for char in other_chars:\n",
    "        x = x.replace(char, '')\n",
    "    \n",
    "    return x\n",
    "\n",
    "\n",
    "def lower_case_text(text):\n",
    "    return text.lower()\n",
    "\n",
    "funcs = [\n",
    "    remove_urls, \n",
    "    lower_case_text,\n",
    "    remove_punctuation,\n",
    "    remove_stop_words, \n",
    "    remove_emoji, \n",
    "    remove_double_quotes, \n",
    "    remove_single_quotes,\n",
    "    remove_other_chars,\n",
    "    lemmatize_words,\n",
    "    remove_spaces,\n",
    "    trim]\n",
    "\n"
   ]
  },
  {
   "cell_type": "code",
   "execution_count": 51,
   "metadata": {},
   "outputs": [],
   "source": [
    "for fun in funcs:\n",
    "    crypto['body'] = crypto['body'].apply(fun)"
   ]
  },
  {
   "cell_type": "code",
   "execution_count": 52,
   "metadata": {
    "execution": {
     "iopub.execute_input": "2021-06-03T19:49:59.415967Z",
     "iopub.status.busy": "2021-06-03T19:49:59.415682Z",
     "iopub.status.idle": "2021-06-03T19:49:59.457088Z",
     "shell.execute_reply": "2021-06-03T19:49:59.456277Z",
     "shell.execute_reply.started": "2021-06-03T19:49:59.415940Z"
    }
   },
   "outputs": [],
   "source": [
    "crypto.reset_index(inplace=True)\n",
    "crypto.drop(['index'], axis=1, inplace=True)\n",
    "\n"
   ]
  },
  {
   "cell_type": "code",
   "execution_count": 53,
   "metadata": {
    "execution": {
     "iopub.execute_input": "2021-06-03T19:49:59.466127Z",
     "iopub.status.busy": "2021-06-03T19:49:59.465865Z",
     "iopub.status.idle": "2021-06-03T19:49:59.478390Z",
     "shell.execute_reply": "2021-06-03T19:49:59.477278Z",
     "shell.execute_reply.started": "2021-06-03T19:49:59.466101Z"
    }
   },
   "outputs": [],
   "source": [
    "body_list = crypto.body.tolist()"
   ]
  },
  {
   "cell_type": "code",
   "execution_count": 54,
   "metadata": {
    "execution": {
     "iopub.execute_input": "2021-06-03T19:50:49.982661Z",
     "iopub.status.busy": "2021-06-03T19:50:49.982075Z",
     "iopub.status.idle": "2021-06-03T19:50:49.989305Z",
     "shell.execute_reply": "2021-06-03T19:50:49.988267Z",
     "shell.execute_reply.started": "2021-06-03T19:50:49.982612Z"
    }
   },
   "outputs": [],
   "source": [
    "def generate_ngrams(text, n_gram=2):\n",
    "    token = [token for token in text.lower().split(' ') if token != '']\n",
    "    ngrams = zip(*[token[i:] for i in range(n_gram)])\n",
    "    return [' '.join(ngram) for ngram in ngrams]"
   ]
  },
  {
   "cell_type": "code",
   "execution_count": 56,
   "metadata": {
    "execution": {
     "iopub.execute_input": "2021-06-03T19:50:55.370946Z",
     "iopub.status.busy": "2021-06-03T19:50:55.370534Z",
     "iopub.status.idle": "2021-06-03T19:50:55.714415Z",
     "shell.execute_reply": "2021-06-03T19:50:55.713521Z",
     "shell.execute_reply.started": "2021-06-03T19:50:55.370902Z"
    }
   },
   "outputs": [],
   "source": [
    "from sklearn.feature_extraction.text import TfidfVectorizer\n",
    "from scipy import linalg\n",
    "from sklearn import decomposition\n",
    "import fbpca\n",
    "\n",
    "number_of_topics = 30\n",
    "num_top_words = 20\n",
    "vectorizer = TfidfVectorizer()"
   ]
  },
  {
   "cell_type": "code",
   "execution_count": 57,
   "metadata": {
    "execution": {
     "iopub.execute_input": "2021-06-03T19:51:31.248352Z",
     "iopub.status.busy": "2021-06-03T19:51:31.247737Z",
     "iopub.status.idle": "2021-06-03T19:51:31.258145Z",
     "shell.execute_reply": "2021-06-03T19:51:31.257354Z",
     "shell.execute_reply.started": "2021-06-03T19:51:31.248312Z"
    }
   },
   "outputs": [],
   "source": [
    "bigram_vectorizer = TfidfVectorizer(ngram_range=(2,2))"
   ]
  },
  {
   "cell_type": "code",
   "execution_count": 58,
   "metadata": {
    "execution": {
     "iopub.execute_input": "2021-06-03T19:51:31.259788Z",
     "iopub.status.busy": "2021-06-03T19:51:31.259427Z",
     "iopub.status.idle": "2021-06-03T19:51:51.881064Z",
     "shell.execute_reply": "2021-06-03T19:51:51.880073Z",
     "shell.execute_reply.started": "2021-06-03T19:51:31.259760Z"
    }
   },
   "outputs": [],
   "source": [
    "bigrams_vectors = bigram_vectorizer.fit_transform(body_list).todense()\n",
    "bigrams_vocab = np.array(bigram_vectorizer.get_feature_names())"
   ]
  },
  {
   "cell_type": "markdown",
   "metadata": {},
   "source": [
    "# LDA"
   ]
  },
  {
   "cell_type": "code",
   "execution_count": 59,
   "metadata": {},
   "outputs": [],
   "source": [
    "docs = [generate_ngrams(body) for body in body_list]"
   ]
  },
  {
   "cell_type": "code",
   "execution_count": 61,
   "metadata": {
    "execution": {
     "iopub.execute_input": "2021-06-03T19:59:11.129435Z",
     "iopub.status.busy": "2021-06-03T19:59:11.128991Z",
     "iopub.status.idle": "2021-06-03T19:59:15.988836Z",
     "shell.execute_reply": "2021-06-03T19:59:15.988126Z",
     "shell.execute_reply.started": "2021-06-03T19:59:11.129385Z"
    }
   },
   "outputs": [
    {
     "name": "stderr",
     "output_type": "stream",
     "text": [
      "2021-11-20 13:06:56.628 adding document #0 to Dictionary(0 unique tokens: [])\n",
      "2021-11-20 13:06:56.701 built Dictionary(36632 unique tokens: ['2fa possible', 'acting trade', 'actions share', 'afford lose', 'age requirements']...) from 635 documents (total 41941 corpus positions)\n",
      "2021-11-20 13:06:56.701 Dictionary lifecycle event {'msg': \"built Dictionary(36632 unique tokens: ['2fa possible', 'acting trade', 'actions share', 'afford lose', 'age requirements']...) from 635 documents (total 41941 corpus positions)\", 'datetime': '2021-11-20T13:06:56.701917', 'gensim': '4.1.2', 'python': '3.8.8 (default, Apr 13 2021, 12:59:45) \\n[Clang 10.0.0 ]', 'platform': 'macOS-10.16-x86_64-i386-64bit', 'event': 'created'}\n"
     ]
    }
   ],
   "source": [
    "from gensim.corpora import Dictionary\n",
    "\n",
    "dic = Dictionary(docs)"
   ]
  },
  {
   "cell_type": "code",
   "execution_count": 62,
   "metadata": {
    "execution": {
     "iopub.execute_input": "2021-06-03T19:59:15.990471Z",
     "iopub.status.busy": "2021-06-03T19:59:15.990123Z",
     "iopub.status.idle": "2021-06-03T19:59:18.060087Z",
     "shell.execute_reply": "2021-06-03T19:59:18.058988Z",
     "shell.execute_reply.started": "2021-06-03T19:59:15.990438Z"
    }
   },
   "outputs": [],
   "source": [
    "corpus = [dic.doc2bow(doc) for doc in docs]"
   ]
  },
  {
   "cell_type": "code",
   "execution_count": 63,
   "metadata": {
    "execution": {
     "iopub.execute_input": "2021-06-03T19:59:18.061846Z",
     "iopub.status.busy": "2021-06-03T19:59:18.061522Z",
     "iopub.status.idle": "2021-06-03T20:00:30.470318Z",
     "shell.execute_reply": "2021-06-03T20:00:30.469314Z",
     "shell.execute_reply.started": "2021-06-03T19:59:18.061814Z"
    }
   },
   "outputs": [
    {
     "name": "stderr",
     "output_type": "stream",
     "text": [
      "2021-11-20 13:07:10.132 using symmetric alpha at 0.03333333333333333\n",
      "2021-11-20 13:07:10.134 using symmetric eta at 0.03333333333333333\n",
      "2021-11-20 13:07:10.144 using serial LDA version on this node\n",
      "2021-11-20 13:07:10.236 running online (multi-pass) LDA training, 30 topics, 5 passes over the supplied corpus of 635 documents, updating model once every 635 documents, evaluating perplexity every 635 documents, iterating 50x with a convergence threshold of 0.001000\n",
      "2021-11-20 13:07:10.237 too few updates, training might not converge; consider increasing the number of passes or iterations to improve accuracy\n",
      "2021-11-20 13:07:10.581 -63.361 per-word bound, 11846227624940990464.0 perplexity estimate based on a held-out corpus of 635 documents with 41941 words\n",
      "2021-11-20 13:07:10.582 PROGRESS: pass 0, at document #635/635\n",
      "2021-11-20 13:07:10.846 topic #16 (0.033): 0.002*\"24 hours\" + 0.001*\"ve seen\" + 0.001*\"wo nt\" + 0.001*\"limit orders\" + 0.001*\"limit order\" + 0.001*\"total monetary\" + 0.001*\"end year\" + 0.001*\"100 k\" + 0.001*\"basic attention\" + 0.001*\"gas fees\"\n",
      "2021-11-20 13:07:10.847 topic #15 (0.033): 0.001*\"crypto market\" + 0.001*\"beat game\" + 0.001*\"making purchases\" + 0.001*\"cope tokens\" + 0.001*\"shitcoin degens\" + 0.001*\"purchases crypto\" + 0.001*\"car dealership\" + 0.001*\"gon na\" + 0.001*\"digital currency\" + 0.001*\"monero xmr\"\n",
      "2021-11-20 13:07:10.848 topic #6 (0.033): 0.001*\"buy dip\" + 0.001*\"bear market\" + 0.001*\"wo nt\" + 0.001*\"long run\" + 0.001*\"dip middle\" + 0.001*\"middle month\" + 0.001*\"rise value\" + 0.000*\"crypto exchanges\" + 0.000*\"wallet address\" + 0.000*\"think bear\"\n",
      "2021-11-20 13:07:10.849 topic #25 (0.033): 0.002*\"smart contract\" + 0.001*\"long term\" + 0.001*\"crypto space\" + 0.001*\"smart contracts\" + 0.001*\"nft games\" + 0.001*\"portfolio value\" + 0.001*\"monetary value\" + 0.001*\"32 hours\" + 0.001*\"nt nt\" + 0.001*\"pab nt\"\n",
      "2021-11-20 13:07:10.850 topic #9 (0.033): 0.004*\"let algo\" + 0.004*\"algo let\" + 0.001*\"nt want\" + 0.001*\"market cap\" + 0.001*\"portfolio value\" + 0.001*\"meme coins\" + 0.001*\"gas fees\" + 0.001*\"nt invest\" + 0.001*\"doge shiba\" + 0.001*\"crypto meme\"\n",
      "2021-11-20 13:07:10.851 topic diff=20.675768, rho=1.000000\n",
      "2021-11-20 13:07:11.069 -15.891 per-word bound, 60774.9 perplexity estimate based on a held-out corpus of 635 documents with 41941 words\n",
      "2021-11-20 13:07:11.070 PROGRESS: pass 1, at document #635/635\n",
      "2021-11-20 13:07:11.204 topic #24 (0.033): 0.008*\"portfolio value\" + 0.006*\"total monetary\" + 0.006*\"monetary value\" + 0.005*\"value €\" + 0.004*\"original investment\" + 0.003*\"200 portfolio\" + 0.003*\"profits taken\" + 0.003*\"taken €\" + 0.002*\"total portfolio\" + 0.002*\"50 crash\"\n",
      "2021-11-20 13:07:11.205 topic #9 (0.033): 0.005*\"let algo\" + 0.005*\"algo let\" + 0.001*\"market cap\" + 0.001*\"meme coins\" + 0.001*\"nt want\" + 0.001*\"nt understand\" + 0.001*\"nt think\" + 0.001*\"understand projects\" + 0.001*\"long term\" + 0.001*\"gas fees\"\n",
      "2021-11-20 13:07:11.206 topic #10 (0.033): 0.001*\"smart contracts\" + 0.001*\"stable coin\" + 0.001*\"block chain\" + 0.001*\"gas fees\" + 0.001*\"smart contract\" + 0.001*\"ve seen\" + 0.001*\"terra ecosystem\" + 0.001*\"panic selling\" + 0.001*\"hardware wallet\" + 0.001*\"feel like\"\n",
      "2021-11-20 13:07:11.207 topic #18 (0.033): 0.002*\"bear market\" + 0.001*\"03 ethbtc\" + 0.001*\"eth 03\" + 0.001*\"10 eth\" + 0.001*\"bull market\" + 0.001*\"ethbtc value\" + 0.001*\"73 btc\" + 0.001*\"market purchase\" + 0.001*\"months ago\" + 0.001*\"impact crypto\"\n",
      "2021-11-20 13:07:11.207 topic #3 (0.033): 0.001*\"multiple coins\" + 0.001*\"crypto island\" + 0.001*\"smart contracts\" + 0.001*\"web3 wallet\" + 0.001*\"credit score\" + 0.001*\"gas fees\" + 0.001*\"reveal identity\" + 0.001*\"… day\" + 0.001*\"liquidity pool\" + 0.001*\"high rates\"\n",
      "2021-11-20 13:07:11.209 topic diff=1.995623, rho=0.577350\n",
      "2021-11-20 13:07:11.414 -13.002 per-word bound, 8205.1 perplexity estimate based on a held-out corpus of 635 documents with 41941 words\n",
      "2021-11-20 13:07:11.414 PROGRESS: pass 2, at document #635/635\n",
      "2021-11-20 13:07:11.521 topic #14 (0.033): 0.002*\"rise value\" + 0.001*\"btc eth\" + 0.001*\"block chain\" + 0.001*\"june 2021\" + 0.001*\"new crypto\" + 0.001*\"chain technology\" + 0.001*\"digital voting\" + 0.001*\"voting system\" + 0.001*\"market caps\" + 0.001*\"fiat currency\"\n",
      "2021-11-20 13:07:11.522 topic #24 (0.033): 0.011*\"portfolio value\" + 0.009*\"total monetary\" + 0.009*\"monetary value\" + 0.007*\"value €\" + 0.005*\"original investment\" + 0.005*\"200 portfolio\" + 0.004*\"profits taken\" + 0.004*\"taken €\" + 0.003*\"total portfolio\" + 0.002*\"50 crash\"\n",
      "2021-11-20 13:07:11.523 topic #21 (0.033): 0.003*\"creating nfts\" + 0.003*\"relevant creating\" + 0.001*\"nfts investing\" + 0.001*\"investing nfts\" + 0.001*\"real world\" + 0.001*\"virtual world\" + 0.001*\"virtual reality\" + 0.001*\"social media\" + 0.001*\"buy dip\" + 0.001*\"nt know\"\n",
      "2021-11-20 13:07:11.524 topic #6 (0.033): 0.002*\"bear market\" + 0.001*\"information posted\" + 0.001*\"buy dip\" + 0.001*\"wo nt\" + 0.001*\"long run\" + 0.001*\"dip middle\" + 0.001*\"middle month\" + 0.001*\"crypto exchanges\" + 0.001*\"wallet address\" + 0.001*\"think bear\"\n",
      "2021-11-20 13:07:11.525 topic #15 (0.033): 0.005*\"technical analysis\" + 0.003*\"moving average\" + 0.002*\"moving averages\" + 0.001*\"asset price\" + 0.001*\"crypto market\" + 0.001*\"beat game\" + 0.001*\"cope tokens\" + 0.001*\"interest pay\" + 0.001*\"fundamental analysis\" + 0.001*\"resistance support\"\n",
      "2021-11-20 13:07:11.527 topic diff=1.358852, rho=0.500000\n",
      "2021-11-20 13:07:11.711 -12.065 per-word bound, 4283.4 perplexity estimate based on a held-out corpus of 635 documents with 41941 words\n",
      "2021-11-20 13:07:11.712 PROGRESS: pass 3, at document #635/635\n",
      "2021-11-20 13:07:11.829 topic #14 (0.033): 0.002*\"rise value\" + 0.001*\"btc eth\" + 0.001*\"block chain\" + 0.001*\"june 2021\" + 0.001*\"new crypto\" + 0.001*\"chain technology\" + 0.001*\"digital voting\" + 0.001*\"voting system\" + 0.001*\"market caps\" + 0.001*\"fiat currency\"\n",
      "2021-11-20 13:07:11.830 topic #11 (0.033): 0.001*\"white paper\" + 0.001*\"social media\" + 0.001*\"token 1\" + 0.001*\"new ido\" + 0.001*\"game token\" + 0.001*\"nt seen\" + 0.001*\"projects believe\" + 0.001*\"ve seen\" + 0.001*\"different crypto\" + 0.001*\"crypto projects\"\n",
      "2021-11-20 13:07:11.832 topic #13 (0.033): 0.003*\"avalanche network\" + 0.002*\"long term\" + 0.002*\"gas fee\" + 0.002*\"interest rate\" + 0.001*\"defi space\" + 0.001*\"past year\" + 0.001*\"paid avax\" + 0.001*\"d owe\" + 0.001*\"noncustodial wallets\" + 0.001*\"enhanced yield\"\n",
      "2021-11-20 13:07:11.834 topic #24 (0.033): 0.012*\"portfolio value\" + 0.010*\"total monetary\" + 0.009*\"monetary value\" + 0.008*\"value €\" + 0.005*\"original investment\" + 0.005*\"200 portfolio\" + 0.004*\"profits taken\" + 0.004*\"total portfolio\" + 0.004*\"taken €\" + 0.002*\"profit taking\"\n",
      "2021-11-20 13:07:11.836 topic #26 (0.033): 0.002*\"craig wright\" + 0.001*\"m saying\" + 0.001*\"flash loan\" + 0.001*\"watchonly wallet\" + 0.001*\"el salvador\" + 0.001*\"total monetary\" + 0.001*\"portfolio value\" + 0.001*\"monetary value\" + 0.001*\"chats messages\" + 0.001*\"disable follows\"\n",
      "2021-11-20 13:07:11.837 topic diff=0.895227, rho=0.447214\n",
      "2021-11-20 13:07:12.059 -11.763 per-word bound, 3475.1 perplexity estimate based on a held-out corpus of 635 documents with 41941 words\n",
      "2021-11-20 13:07:12.060 PROGRESS: pass 4, at document #635/635\n",
      "2021-11-20 13:07:12.172 topic #24 (0.033): 0.012*\"portfolio value\" + 0.010*\"total monetary\" + 0.010*\"monetary value\" + 0.008*\"value €\" + 0.005*\"original investment\" + 0.005*\"200 portfolio\" + 0.005*\"profits taken\" + 0.004*\"total portfolio\" + 0.004*\"taken €\" + 0.003*\"profit taking\"\n",
      "2021-11-20 13:07:12.173 topic #9 (0.033): 0.006*\"let algo\" + 0.005*\"algo let\" + 0.001*\"market cap\" + 0.001*\"meme coins\" + 0.001*\"nt understand\" + 0.001*\"nt think\" + 0.001*\"understand projects\" + 0.001*\"nt want\" + 0.001*\"long term\" + 0.001*\"gas fees\"\n",
      "2021-11-20 13:07:12.174 topic #17 (0.033): 0.001*\"order book\" + 0.001*\"thought experiment\" + 0.001*\"million dollars\" + 0.001*\"1 million\" + 0.001*\"wo nt\" + 0.001*\"accruing interest\" + 0.001*\"crypto way\" + 0.001*\"crypto info\" + 0.001*\"trusted counterparties\" + 0.001*\"forum post\"\n",
      "2021-11-20 13:07:12.176 topic #5 (0.033): 0.003*\"fear greed\" + 0.003*\"greed index\" + 0.002*\"nov 25\" + 0.002*\"seed phrase\" + 0.001*\"chance price\" + 0.001*\"· market\" + 0.001*\"max pain\" + 0.001*\"mostgoogled crypto\" + 0.001*\"searches month\" + 0.001*\"ethereum eth\"\n",
      "2021-11-20 13:07:12.178 topic #14 (0.033): 0.002*\"rise value\" + 0.001*\"btc eth\" + 0.001*\"block chain\" + 0.001*\"june 2021\" + 0.001*\"new crypto\" + 0.001*\"chain technology\" + 0.001*\"digital voting\" + 0.001*\"voting system\" + 0.001*\"market caps\" + 0.001*\"fiat currency\"\n",
      "2021-11-20 13:07:12.180 topic diff=0.581970, rho=0.408248\n",
      "2021-11-20 13:07:12.181 LdaModel lifecycle event {'msg': 'trained LdaModel(num_terms=36632, num_topics=30, decay=0.5, chunksize=2500) in 1.94s', 'datetime': '2021-11-20T13:07:12.181031', 'gensim': '4.1.2', 'python': '3.8.8 (default, Apr 13 2021, 12:59:45) \\n[Clang 10.0.0 ]', 'platform': 'macOS-10.16-x86_64-i386-64bit', 'event': 'created'}\n"
     ]
    }
   ],
   "source": [
    "from gensim.models import LdaModel\n",
    "\n",
    "model = LdaModel(corpus=corpus, id2word=dic, num_topics=number_of_topics, chunksize=2500, passes=5, random_state=1)"
   ]
  },
  {
   "cell_type": "code",
   "execution_count": 139,
   "metadata": {},
   "outputs": [
    {
     "name": "stdout",
     "output_type": "stream",
     "text": [
      "0:['crypto works', 'm curious', 'huge fan', 'current market', 'investing crypto', 'wo nt', 'invest based', 'market rebound', 'nt exclude', 'crypto people', 'people nt', 'feel like', 'trading crypto', 'want invest', 'new crypto', 'language function', 'adventurer subscription', 'works getting', 'crypto language', 'experience new']\n",
      "1:['cash rewards', 'social media', 'crypto daily', 'airdrops giveaways', 'dip nt', 'defi platforms', 'defi staking', 'earn crypto', 'earn programs', 'learn earn', 'btc like', 'dex launched', 'blah blah', 'm right', 'maiar dex', 'time high', 'hedge funds', 'like know', '4 cash', 'debit cards']\n"
     ]
    }
   ],
   "source": [
    "x = model.show_topics(num_topics=30, num_words=20,formatted=False)\n",
    "topics_words = [(tp[0], [wd[0] for wd in tp[1]]) for tp in x]\n",
    "\n",
    "tid = np.nan\n",
    "flag = 0\n",
    "for topic,words in topics_words:\n",
    "    print(str(topic)+ \":\"+ str(words))\n",
    "    for word in words:\n",
    "        if len(re.findall('('+'btc'+')', word)):\n",
    "            tid = topic\n",
    "            flag = 1\n",
    "            break\n",
    "    if flag:\n",
    "        break\n",
    "        \n",
    "      "
   ]
  },
  {
   "cell_type": "code",
   "execution_count": 140,
   "metadata": {},
   "outputs": [
    {
     "name": "stdout",
     "output_type": "stream",
     "text": [
      "[77, 153, 160, 171, 264, 272, 333, 364, 506, 527, 535, 547, 550, 578, 628]\n"
     ]
    }
   ],
   "source": [
    "if np.isnan(tid):\n",
    "     st.error('Topic not found, please revise the spelling or enter another topic.')\n",
    "else:\n",
    "     ilist = []\n",
    "     for doc in range(len(docs)):\n",
    "          prob = model.get_document_topics(dic.doc2bow(docs[doc]),minimum_probability=0)\n",
    "          if prob[tid][1] > 0.15:\n",
    "               ilist.append(doc)\n",
    "               \n",
    "print(ilist)"
   ]
  },
  {
   "cell_type": "code",
   "execution_count": 144,
   "metadata": {},
   "outputs": [],
   "source": [
    "from textblob import TextBlob\n",
    "# create a function to get subjectivity\n",
    "def getSubjectivity(twt):\n",
    "    return TextBlob(twt).sentiment.subjectivity\n",
    "\n",
    "# create a function to get the polarity\n",
    "def getPolarity(twt):\n",
    "    return TextBlob(twt).sentiment.polarity\n",
    "\n",
    "# create two new columns called \"Subjectivity\" & \"Polarity\"\n",
    "crypto['subjectivity'] = crypto['original_body'][ilist].apply(getSubjectivity)\n",
    "crypto['polarity'] = crypto['original_body'][ilist].apply(getPolarity)"
   ]
  },
  {
   "cell_type": "code",
   "execution_count": 145,
   "metadata": {},
   "outputs": [],
   "source": [
    "# create a function get the sentiment text\n",
    "def getSentiment(score):\n",
    "    if score < 0:\n",
    "        return \"negative\"\n",
    "    elif score == 0:\n",
    "        return \"neutral\"\n",
    "    else:\n",
    "        return \"positive\""
   ]
  },
  {
   "cell_type": "code",
   "execution_count": 146,
   "metadata": {},
   "outputs": [],
   "source": [
    "# create a column to store the text sentiment\n",
    "crypto['sentiment'] = crypto['polarity'].apply(getSentiment)\n",
    "\n"
   ]
  },
  {
   "cell_type": "code",
   "execution_count": 185,
   "metadata": {},
   "outputs": [],
   "source": [
    "def getpercentage(df):\n",
    "    p = df.sentiment.loc[ df.sentiment == 'positive'].count()\n",
    "    neg = df.sentiment.loc[ df.sentiment == 'negative'].count()\n",
    "    n = df.sentiment.loc[ df.sentiment == 'neutral'].count()\n",
    "    total = p + neg + n\n",
    "    p1, p2, p3 = p/total, n/total, neg/total\n",
    "    return [p1*100, p2*100, p3*100] "
   ]
  },
  {
   "cell_type": "code",
   "execution_count": 186,
   "metadata": {},
   "outputs": [],
   "source": [
    "df=crypto.loc[ilist]\n",
    "values =getpercentage(df)\n",
    "labels = ['Positive', 'Neutral', 'Negative']"
   ]
  },
  {
   "cell_type": "code",
   "execution_count": 187,
   "metadata": {},
   "outputs": [
    {
     "data": {
      "text/plain": [
       "[86.66666666666667, 0.0, 13.333333333333334]"
      ]
     },
     "execution_count": 187,
     "metadata": {},
     "output_type": "execute_result"
    }
   ],
   "source": [
    "values"
   ]
  },
  {
   "cell_type": "code",
   "execution_count": 191,
   "metadata": {},
   "outputs": [],
   "source": [
    "colors = ['blue','grey','red']\n"
   ]
  },
  {
   "cell_type": "code",
   "execution_count": 192,
   "metadata": {},
   "outputs": [
    {
     "data": {
      "application/vnd.plotly.v1+json": {
       "config": {
        "plotlyServerURL": "https://plot.ly"
       },
       "data": [
        {
         "hole": 0.8,
         "hoverinfo": "label+percent",
         "labels": [
          "Positive",
          "Neutral",
          "Negative"
         ],
         "marker": {
          "colors": [
           "blue",
           "grey",
           "red"
          ]
         },
         "textfont": {
          "size": 20
         },
         "textinfo": "percent",
         "type": "pie",
         "values": [
          86.66666666666667,
          0,
          13.333333333333334
         ]
        }
       ],
       "layout": {
        "annotations": [
         {
          "font": {
           "color": "black",
           "family": "Verdana",
           "size": 20
          },
          "showarrow": false,
          "text": "Sentiments",
          "x": 0.5,
          "y": 0.5
         }
        ],
        "template": {
         "data": {
          "bar": [
           {
            "error_x": {
             "color": "#2a3f5f"
            },
            "error_y": {
             "color": "#2a3f5f"
            },
            "marker": {
             "line": {
              "color": "#E5ECF6",
              "width": 0.5
             },
             "pattern": {
              "fillmode": "overlay",
              "size": 10,
              "solidity": 0.2
             }
            },
            "type": "bar"
           }
          ],
          "barpolar": [
           {
            "marker": {
             "line": {
              "color": "#E5ECF6",
              "width": 0.5
             },
             "pattern": {
              "fillmode": "overlay",
              "size": 10,
              "solidity": 0.2
             }
            },
            "type": "barpolar"
           }
          ],
          "carpet": [
           {
            "aaxis": {
             "endlinecolor": "#2a3f5f",
             "gridcolor": "white",
             "linecolor": "white",
             "minorgridcolor": "white",
             "startlinecolor": "#2a3f5f"
            },
            "baxis": {
             "endlinecolor": "#2a3f5f",
             "gridcolor": "white",
             "linecolor": "white",
             "minorgridcolor": "white",
             "startlinecolor": "#2a3f5f"
            },
            "type": "carpet"
           }
          ],
          "choropleth": [
           {
            "colorbar": {
             "outlinewidth": 0,
             "ticks": ""
            },
            "type": "choropleth"
           }
          ],
          "contour": [
           {
            "colorbar": {
             "outlinewidth": 0,
             "ticks": ""
            },
            "colorscale": [
             [
              0,
              "#0d0887"
             ],
             [
              0.1111111111111111,
              "#46039f"
             ],
             [
              0.2222222222222222,
              "#7201a8"
             ],
             [
              0.3333333333333333,
              "#9c179e"
             ],
             [
              0.4444444444444444,
              "#bd3786"
             ],
             [
              0.5555555555555556,
              "#d8576b"
             ],
             [
              0.6666666666666666,
              "#ed7953"
             ],
             [
              0.7777777777777778,
              "#fb9f3a"
             ],
             [
              0.8888888888888888,
              "#fdca26"
             ],
             [
              1,
              "#f0f921"
             ]
            ],
            "type": "contour"
           }
          ],
          "contourcarpet": [
           {
            "colorbar": {
             "outlinewidth": 0,
             "ticks": ""
            },
            "type": "contourcarpet"
           }
          ],
          "heatmap": [
           {
            "colorbar": {
             "outlinewidth": 0,
             "ticks": ""
            },
            "colorscale": [
             [
              0,
              "#0d0887"
             ],
             [
              0.1111111111111111,
              "#46039f"
             ],
             [
              0.2222222222222222,
              "#7201a8"
             ],
             [
              0.3333333333333333,
              "#9c179e"
             ],
             [
              0.4444444444444444,
              "#bd3786"
             ],
             [
              0.5555555555555556,
              "#d8576b"
             ],
             [
              0.6666666666666666,
              "#ed7953"
             ],
             [
              0.7777777777777778,
              "#fb9f3a"
             ],
             [
              0.8888888888888888,
              "#fdca26"
             ],
             [
              1,
              "#f0f921"
             ]
            ],
            "type": "heatmap"
           }
          ],
          "heatmapgl": [
           {
            "colorbar": {
             "outlinewidth": 0,
             "ticks": ""
            },
            "colorscale": [
             [
              0,
              "#0d0887"
             ],
             [
              0.1111111111111111,
              "#46039f"
             ],
             [
              0.2222222222222222,
              "#7201a8"
             ],
             [
              0.3333333333333333,
              "#9c179e"
             ],
             [
              0.4444444444444444,
              "#bd3786"
             ],
             [
              0.5555555555555556,
              "#d8576b"
             ],
             [
              0.6666666666666666,
              "#ed7953"
             ],
             [
              0.7777777777777778,
              "#fb9f3a"
             ],
             [
              0.8888888888888888,
              "#fdca26"
             ],
             [
              1,
              "#f0f921"
             ]
            ],
            "type": "heatmapgl"
           }
          ],
          "histogram": [
           {
            "marker": {
             "pattern": {
              "fillmode": "overlay",
              "size": 10,
              "solidity": 0.2
             }
            },
            "type": "histogram"
           }
          ],
          "histogram2d": [
           {
            "colorbar": {
             "outlinewidth": 0,
             "ticks": ""
            },
            "colorscale": [
             [
              0,
              "#0d0887"
             ],
             [
              0.1111111111111111,
              "#46039f"
             ],
             [
              0.2222222222222222,
              "#7201a8"
             ],
             [
              0.3333333333333333,
              "#9c179e"
             ],
             [
              0.4444444444444444,
              "#bd3786"
             ],
             [
              0.5555555555555556,
              "#d8576b"
             ],
             [
              0.6666666666666666,
              "#ed7953"
             ],
             [
              0.7777777777777778,
              "#fb9f3a"
             ],
             [
              0.8888888888888888,
              "#fdca26"
             ],
             [
              1,
              "#f0f921"
             ]
            ],
            "type": "histogram2d"
           }
          ],
          "histogram2dcontour": [
           {
            "colorbar": {
             "outlinewidth": 0,
             "ticks": ""
            },
            "colorscale": [
             [
              0,
              "#0d0887"
             ],
             [
              0.1111111111111111,
              "#46039f"
             ],
             [
              0.2222222222222222,
              "#7201a8"
             ],
             [
              0.3333333333333333,
              "#9c179e"
             ],
             [
              0.4444444444444444,
              "#bd3786"
             ],
             [
              0.5555555555555556,
              "#d8576b"
             ],
             [
              0.6666666666666666,
              "#ed7953"
             ],
             [
              0.7777777777777778,
              "#fb9f3a"
             ],
             [
              0.8888888888888888,
              "#fdca26"
             ],
             [
              1,
              "#f0f921"
             ]
            ],
            "type": "histogram2dcontour"
           }
          ],
          "mesh3d": [
           {
            "colorbar": {
             "outlinewidth": 0,
             "ticks": ""
            },
            "type": "mesh3d"
           }
          ],
          "parcoords": [
           {
            "line": {
             "colorbar": {
              "outlinewidth": 0,
              "ticks": ""
             }
            },
            "type": "parcoords"
           }
          ],
          "pie": [
           {
            "automargin": true,
            "type": "pie"
           }
          ],
          "scatter": [
           {
            "marker": {
             "colorbar": {
              "outlinewidth": 0,
              "ticks": ""
             }
            },
            "type": "scatter"
           }
          ],
          "scatter3d": [
           {
            "line": {
             "colorbar": {
              "outlinewidth": 0,
              "ticks": ""
             }
            },
            "marker": {
             "colorbar": {
              "outlinewidth": 0,
              "ticks": ""
             }
            },
            "type": "scatter3d"
           }
          ],
          "scattercarpet": [
           {
            "marker": {
             "colorbar": {
              "outlinewidth": 0,
              "ticks": ""
             }
            },
            "type": "scattercarpet"
           }
          ],
          "scattergeo": [
           {
            "marker": {
             "colorbar": {
              "outlinewidth": 0,
              "ticks": ""
             }
            },
            "type": "scattergeo"
           }
          ],
          "scattergl": [
           {
            "marker": {
             "colorbar": {
              "outlinewidth": 0,
              "ticks": ""
             }
            },
            "type": "scattergl"
           }
          ],
          "scattermapbox": [
           {
            "marker": {
             "colorbar": {
              "outlinewidth": 0,
              "ticks": ""
             }
            },
            "type": "scattermapbox"
           }
          ],
          "scatterpolar": [
           {
            "marker": {
             "colorbar": {
              "outlinewidth": 0,
              "ticks": ""
             }
            },
            "type": "scatterpolar"
           }
          ],
          "scatterpolargl": [
           {
            "marker": {
             "colorbar": {
              "outlinewidth": 0,
              "ticks": ""
             }
            },
            "type": "scatterpolargl"
           }
          ],
          "scatterternary": [
           {
            "marker": {
             "colorbar": {
              "outlinewidth": 0,
              "ticks": ""
             }
            },
            "type": "scatterternary"
           }
          ],
          "surface": [
           {
            "colorbar": {
             "outlinewidth": 0,
             "ticks": ""
            },
            "colorscale": [
             [
              0,
              "#0d0887"
             ],
             [
              0.1111111111111111,
              "#46039f"
             ],
             [
              0.2222222222222222,
              "#7201a8"
             ],
             [
              0.3333333333333333,
              "#9c179e"
             ],
             [
              0.4444444444444444,
              "#bd3786"
             ],
             [
              0.5555555555555556,
              "#d8576b"
             ],
             [
              0.6666666666666666,
              "#ed7953"
             ],
             [
              0.7777777777777778,
              "#fb9f3a"
             ],
             [
              0.8888888888888888,
              "#fdca26"
             ],
             [
              1,
              "#f0f921"
             ]
            ],
            "type": "surface"
           }
          ],
          "table": [
           {
            "cells": {
             "fill": {
              "color": "#EBF0F8"
             },
             "line": {
              "color": "white"
             }
            },
            "header": {
             "fill": {
              "color": "#C8D4E3"
             },
             "line": {
              "color": "white"
             }
            },
            "type": "table"
           }
          ]
         },
         "layout": {
          "annotationdefaults": {
           "arrowcolor": "#2a3f5f",
           "arrowhead": 0,
           "arrowwidth": 1
          },
          "autotypenumbers": "strict",
          "coloraxis": {
           "colorbar": {
            "outlinewidth": 0,
            "ticks": ""
           }
          },
          "colorscale": {
           "diverging": [
            [
             0,
             "#8e0152"
            ],
            [
             0.1,
             "#c51b7d"
            ],
            [
             0.2,
             "#de77ae"
            ],
            [
             0.3,
             "#f1b6da"
            ],
            [
             0.4,
             "#fde0ef"
            ],
            [
             0.5,
             "#f7f7f7"
            ],
            [
             0.6,
             "#e6f5d0"
            ],
            [
             0.7,
             "#b8e186"
            ],
            [
             0.8,
             "#7fbc41"
            ],
            [
             0.9,
             "#4d9221"
            ],
            [
             1,
             "#276419"
            ]
           ],
           "sequential": [
            [
             0,
             "#0d0887"
            ],
            [
             0.1111111111111111,
             "#46039f"
            ],
            [
             0.2222222222222222,
             "#7201a8"
            ],
            [
             0.3333333333333333,
             "#9c179e"
            ],
            [
             0.4444444444444444,
             "#bd3786"
            ],
            [
             0.5555555555555556,
             "#d8576b"
            ],
            [
             0.6666666666666666,
             "#ed7953"
            ],
            [
             0.7777777777777778,
             "#fb9f3a"
            ],
            [
             0.8888888888888888,
             "#fdca26"
            ],
            [
             1,
             "#f0f921"
            ]
           ],
           "sequentialminus": [
            [
             0,
             "#0d0887"
            ],
            [
             0.1111111111111111,
             "#46039f"
            ],
            [
             0.2222222222222222,
             "#7201a8"
            ],
            [
             0.3333333333333333,
             "#9c179e"
            ],
            [
             0.4444444444444444,
             "#bd3786"
            ],
            [
             0.5555555555555556,
             "#d8576b"
            ],
            [
             0.6666666666666666,
             "#ed7953"
            ],
            [
             0.7777777777777778,
             "#fb9f3a"
            ],
            [
             0.8888888888888888,
             "#fdca26"
            ],
            [
             1,
             "#f0f921"
            ]
           ]
          },
          "colorway": [
           "#636efa",
           "#EF553B",
           "#00cc96",
           "#ab63fa",
           "#FFA15A",
           "#19d3f3",
           "#FF6692",
           "#B6E880",
           "#FF97FF",
           "#FECB52"
          ],
          "font": {
           "color": "#2a3f5f"
          },
          "geo": {
           "bgcolor": "white",
           "lakecolor": "white",
           "landcolor": "#E5ECF6",
           "showlakes": true,
           "showland": true,
           "subunitcolor": "white"
          },
          "hoverlabel": {
           "align": "left"
          },
          "hovermode": "closest",
          "mapbox": {
           "style": "light"
          },
          "paper_bgcolor": "white",
          "plot_bgcolor": "#E5ECF6",
          "polar": {
           "angularaxis": {
            "gridcolor": "white",
            "linecolor": "white",
            "ticks": ""
           },
           "bgcolor": "#E5ECF6",
           "radialaxis": {
            "gridcolor": "white",
            "linecolor": "white",
            "ticks": ""
           }
          },
          "scene": {
           "xaxis": {
            "backgroundcolor": "#E5ECF6",
            "gridcolor": "white",
            "gridwidth": 2,
            "linecolor": "white",
            "showbackground": true,
            "ticks": "",
            "zerolinecolor": "white"
           },
           "yaxis": {
            "backgroundcolor": "#E5ECF6",
            "gridcolor": "white",
            "gridwidth": 2,
            "linecolor": "white",
            "showbackground": true,
            "ticks": "",
            "zerolinecolor": "white"
           },
           "zaxis": {
            "backgroundcolor": "#E5ECF6",
            "gridcolor": "white",
            "gridwidth": 2,
            "linecolor": "white",
            "showbackground": true,
            "ticks": "",
            "zerolinecolor": "white"
           }
          },
          "shapedefaults": {
           "line": {
            "color": "#2a3f5f"
           }
          },
          "ternary": {
           "aaxis": {
            "gridcolor": "white",
            "linecolor": "white",
            "ticks": ""
           },
           "baxis": {
            "gridcolor": "white",
            "linecolor": "white",
            "ticks": ""
           },
           "bgcolor": "#E5ECF6",
           "caxis": {
            "gridcolor": "white",
            "linecolor": "white",
            "ticks": ""
           }
          },
          "title": {
           "x": 0.05
          },
          "xaxis": {
           "automargin": true,
           "gridcolor": "white",
           "linecolor": "white",
           "ticks": "",
           "title": {
            "standoff": 15
           },
           "zerolinecolor": "white",
           "zerolinewidth": 2
          },
          "yaxis": {
           "automargin": true,
           "gridcolor": "white",
           "linecolor": "white",
           "ticks": "",
           "title": {
            "standoff": 15
           },
           "zerolinecolor": "white",
           "zerolinewidth": 2
          }
         }
        }
       }
      }
     },
     "metadata": {},
     "output_type": "display_data"
    }
   ],
   "source": [
    "import plotly.graph_objects as go\n",
    "import plotly.express as px\n",
    "fig6 = go.Figure(data = go.Pie(values = values, \n",
    "                               labels = labels, hole = 0.8,\n",
    "                               marker_colors = colors ))\n",
    "fig6.update_traces(hoverinfo='label+percent',\n",
    "                   textinfo='percent', textfont_size=20)\n",
    "fig6.add_annotation(x= 0.5, y = 0.5,\n",
    "                    text = 'Sentiments',\n",
    "                    font = dict(size=20,family='Verdana', \n",
    "                                color='black'),\n",
    "                    showarrow = False)\n",
    "fig6.show()\n"
   ]
  },
  {
   "cell_type": "code",
   "execution_count": null,
   "metadata": {},
   "outputs": [],
   "source": [
    "st.pyplot(fig6)"
   ]
  },
  {
   "cell_type": "code",
   "execution_count": null,
   "metadata": {},
   "outputs": [],
   "source": [
    "if __name__ == '__main__':\n",
    "    main()\n",
    "    import warnings\n",
    "    warnings.filterwarnings('ignore')"
   ]
  }
 ],
 "metadata": {
  "interpreter": {
   "hash": "40d3a090f54c6569ab1632332b64b2c03c39dcf918b08424e98f38b5ae0af88f"
  },
  "kernelspec": {
   "display_name": "Python 3.8.8 64-bit ('base': conda)",
   "name": "python3"
  },
  "language_info": {
   "codemirror_mode": {
    "name": "ipython",
    "version": 3
   },
   "file_extension": ".py",
   "mimetype": "text/x-python",
   "name": "python",
   "nbconvert_exporter": "python",
   "pygments_lexer": "ipython3",
   "version": "3.8.8"
  },
  "toc": {
   "base_numbering": 1,
   "nav_menu": {},
   "number_sections": true,
   "sideBar": true,
   "skip_h1_title": false,
   "title_cell": "Table of Contents",
   "title_sidebar": "Contents",
   "toc_cell": false,
   "toc_position": {},
   "toc_section_display": true,
   "toc_window_display": false
  }
 },
 "nbformat": 4,
 "nbformat_minor": 4
}
